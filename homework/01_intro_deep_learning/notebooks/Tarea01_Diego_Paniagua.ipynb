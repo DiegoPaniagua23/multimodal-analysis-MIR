{
 "cells": [
  {
   "cell_type": "markdown",
   "id": "f2f1844a",
   "metadata": {},
   "source": [
    "# **Analisis de Datos Multimodales para MIR**\n",
    "### **Tarea 1**: \"*MIR con FMA*\"\n",
    "### **CIMAT** Monterrey\n",
    "*Diego Paniagua Molina*\n",
    "\n",
    "---"
   ]
  },
  {
   "cell_type": "markdown",
   "id": "6f2c2fcd",
   "metadata": {},
   "source": [
    "## **0)** *Preliminares* "
   ]
  },
  {
   "cell_type": "markdown",
   "id": "305b5259",
   "metadata": {},
   "source": [
    "### Configuracion inicial del entorno."
   ]
  },
  {
   "cell_type": "code",
   "execution_count": 28,
   "id": "d057bd14",
   "metadata": {},
   "outputs": [
    {
     "data": {
      "text/plain": [
       "device(type='cpu')"
      ]
     },
     "execution_count": 28,
     "metadata": {},
     "output_type": "execute_result"
    }
   ],
   "source": [
    "\n",
    "# Imports\n",
    "import os, gc, json, math, time, pickle, random\n",
    "import numpy as np\n",
    "import pandas as pd\n",
    "from pathlib import Path\n",
    "\n",
    "# Visualización\n",
    "import matplotlib.pyplot as plt\n",
    "\n",
    "# Sklearn\n",
    "from sklearn.model_selection import train_test_split\n",
    "from sklearn.preprocessing import StandardScaler, LabelEncoder\n",
    "from sklearn.decomposition import PCA\n",
    "from sklearn.metrics import classification_report, confusion_matrix, accuracy_score, f1_score, ConfusionMatrixDisplay\n",
    "\n",
    "# Pytorch\n",
    "import torch\n",
    "from torch import nn\n",
    "from torch.utils.data import Dataset, DataLoader, WeightedRandomSampler\n",
    "from torch.optim import AdamW\n",
    "from torch.optim.lr_scheduler import ReduceLROnPlateau\n",
    "\n",
    "# Semilla\n",
    "SEED = 42\n",
    "random.seed(SEED); np.random.seed(SEED); torch.manual_seed(SEED)\n",
    "torch.backends.cudnn.deterministic = True\n",
    "torch.backends.cudnn.benchmark = False\n",
    "\n",
    "# Cuda\n",
    "DEVICE = torch.device(\"cuda\" if torch.cuda.is_available() else \"cpu\")\n",
    "DEVICE\n"
   ]
  },
  {
   "cell_type": "markdown",
   "id": "c1b4ee9a",
   "metadata": {},
   "source": [
    "### Gestion de rutas para el proyecto."
   ]
  },
  {
   "cell_type": "code",
   "execution_count": 4,
   "id": "b3d54b25",
   "metadata": {},
   "outputs": [],
   "source": [
    "\n",
    "# Rutas del proyecto\n",
    "PROJ = Path(\".\").resolve()\n",
    "DATA = PROJ / \"data\"\n",
    "TRAIN = DATA / \"train\"\n",
    "TEST = DATA / \"test\"\n",
    "FIGS = PROJ / \"figures\"\n",
    "MODELS = PROJ / \"models\"\n",
    "ARTIFACTS = PROJ / \"artifacts\"\n",
    "SUBM = PROJ / \"submissions\"\n",
    "REPORTS = PROJ / \"reports\"\n",
    "\n",
    "# Creacion automatica de directorios\n",
    "for d in [FIGS, MODELS, ARTIFACTS, SUBM, REPORTS]:\n",
    "    d.mkdir(parents=True, exist_ok=True)\n",
    "\n",
    "# Archivos de  metadata\n",
    "train_metadata_path = TRAIN / \"tracks_fma_train_metadata.csv\"\n",
    "test_metadata_path = TEST / \"tracks_fma_test_metadata.csv\"\n",
    "\n",
    "# Archivos de features a combinar\n",
    "FEATURE_FILES = [\n",
    "    \"tracks_fma_{split}_audio_features.csv\",\n",
    "    \"tracks_fma_{split}_chromacens_features.csv\",\n",
    "    \"tracks_fma_{split}_chromacqt_features.csv\",\n",
    "    \"tracks_fma_{split}_chromastft_features.csv\",\n",
    "    \"tracks_fma_{split}_mfcc_features.csv\",\n",
    "    \"tracks_fma_{split}_rmse_features.csv\",\n",
    "    \"tracks_fma_{split}_spectral_features.csv\",\n",
    "    \"tracks_fma_{split}_tonnetz_features.csv\",\n",
    "    \"tracks_fma_{split}_zcr_features.csv\",\n",
    "    \"tracks_fma_{split}_social_features.csv\",\n",
    "]\n",
    "\n",
    "# Funicion para guardar figuras\n",
    "def savefig(name, dpi=150):\n",
    "    path = FIGS / name\n",
    "    plt.savefig(path, dpi=dpi, bbox_inches=\"tight\")\n",
    "    print(f\"Guardada: {path}\")\n"
   ]
  },
  {
   "cell_type": "markdown",
   "id": "b9c30b79",
   "metadata": {},
   "source": [
    "### Funciones para carga y union de datos."
   ]
  },
  {
   "cell_type": "code",
   "execution_count": 5,
   "id": "b64c8784",
   "metadata": {},
   "outputs": [],
   "source": [
    "\n",
    "#  Lectura y limpieza básica para estandarizar archivos de metadatos\n",
    "def read_metadata(meta_path: Path, split: str) -> pd.DataFrame:\n",
    "    df = pd.read_csv(meta_path)\n",
    "    # estandarizamos nombres de columnas\n",
    "    df.columns = [c.strip() for c in df.columns]\n",
    "    # asegurar tipos\n",
    "    if \"track_id\" in df.columns:\n",
    "        df[\"track_id\"] = df[\"track_id\"].astype(int)\n",
    "    # renombrar etiqueta si existe\n",
    "    if split == \"train\" and \"track.genre1\" in df.columns:\n",
    "        df = df.rename(columns={\"track.genre1\": \"genre\"})\n",
    "    return df\n",
    "\n",
    "# Lectura y validacion de todos los archivos de features para unificar datasets\n",
    "def read_features(dir_path: Path, split: str) -> list[pd.DataFrame]:\n",
    "    frames = []\n",
    "    for tpl in FEATURE_FILES:\n",
    "        fname = tpl.format(split=split)\n",
    "        fpath = dir_path / fname\n",
    "        if not fpath.exists():\n",
    "            print(f\"[WARN] No encontrado: {fpath}\")\n",
    "            continue\n",
    "        df = pd.read_csv(fpath)\n",
    "        df.columns = [c.strip() for c in df.columns]\n",
    "        if \"track_id\" not in df.columns:\n",
    "            raise ValueError(f\"{fname} no tiene columna 'track_id'\")\n",
    "        # prefijar columnas para saber su procedencia\n",
    "        pref = fname.replace(f\"tracks_fma_{split}_\", \"\").replace(\".csv\",\"\")\n",
    "        num_cols = [c for c in df.columns if c != \"track_id\"]\n",
    "        df = df[[\"track_id\"] + num_cols].copy()\n",
    "        df = df.rename(columns={c: f\"{pref}__{c}\" for c in num_cols})\n",
    "        frames.append(df)\n",
    "    return frames\n",
    "\n",
    "# Generacion del Pipeline\n",
    "def build_matrix(split: str = \"train\") -> tuple[pd.DataFrame, pd.Series | None]:\n",
    "    base_dir = TRAIN if split == \"train\" else TEST\n",
    "    meta = read_metadata(train_metadata_path if split==\"train\" else test_metadata_path, split)\n",
    "    feats = read_features(base_dir, split)\n",
    "    # merge progresivo por track_id\n",
    "    X = meta[[\"track_id\"]].copy()\n",
    "    for f in feats:\n",
    "        X = X.merge(f, on=\"track_id\", how=\"left\")\n",
    "    # separar target\n",
    "    y = None\n",
    "    if split == \"train\" and \"genre\" in meta.columns:\n",
    "        y = meta.set_index(\"track_id\").loc[X[\"track_id\"], \"genre\"].reset_index(drop=True)\n",
    "    return X, y\n"
   ]
  },
  {
   "cell_type": "markdown",
   "id": "668672c7",
   "metadata": {},
   "source": [
    "Definimos este conjunto de funciones (`read_metadata`, `read_features`, `build_matrix`) para leer los múltiples archivos `.csv` de features, limpiarlos, y ensamblarlos en una única matriz de características $X$ y un vector de etiquetas $y$."
   ]
  },
  {
   "cell_type": "markdown",
   "id": "870b8a27",
   "metadata": {},
   "source": [
    "## **1)** *EDA* "
   ]
  },
  {
   "cell_type": "markdown",
   "id": "0d8296e2",
   "metadata": {},
   "source": [
    "### Carga y exploracion de los datos."
   ]
  },
  {
   "cell_type": "code",
   "execution_count": 6,
   "id": "f8db7cac",
   "metadata": {},
   "outputs": [
    {
     "name": "stdout",
     "output_type": "stream",
     "text": [
      "Dimensiones:  (12472, 532) (657, 532)\n"
     ]
    },
    {
     "data": {
      "application/vnd.microsoft.datawrangler.viewer.v0+json": {
       "columns": [
        {
         "name": "index",
         "rawType": "int64",
         "type": "integer"
        },
        {
         "name": "track_id",
         "rawType": "int64",
         "type": "integer"
        },
        {
         "name": "audio_features__audio_features.acousticness",
         "rawType": "float64",
         "type": "float"
        },
        {
         "name": "audio_features__audio_features.danceability",
         "rawType": "float64",
         "type": "float"
        },
        {
         "name": "audio_features__audio_features.energy",
         "rawType": "float64",
         "type": "float"
        },
        {
         "name": "audio_features__audio_features.instrumentalness",
         "rawType": "float64",
         "type": "float"
        },
        {
         "name": "audio_features__audio_features.liveness",
         "rawType": "float64",
         "type": "float"
        },
        {
         "name": "audio_features__audio_features.speechiness",
         "rawType": "float64",
         "type": "float"
        },
        {
         "name": "audio_features__audio_features.tempo",
         "rawType": "float64",
         "type": "float"
        },
        {
         "name": "audio_features__audio_features.valence",
         "rawType": "float64",
         "type": "float"
        },
        {
         "name": "chromacens_features__chromacens.kurtosis.01",
         "rawType": "float64",
         "type": "float"
        },
        {
         "name": "chromacens_features__chromacens.kurtosis.02",
         "rawType": "float64",
         "type": "float"
        },
        {
         "name": "chromacens_features__chromacens.kurtosis.03",
         "rawType": "float64",
         "type": "float"
        },
        {
         "name": "chromacens_features__chromacens.kurtosis.04",
         "rawType": "float64",
         "type": "float"
        },
        {
         "name": "chromacens_features__chromacens.kurtosis.05",
         "rawType": "float64",
         "type": "float"
        },
        {
         "name": "chromacens_features__chromacens.kurtosis.06",
         "rawType": "float64",
         "type": "float"
        },
        {
         "name": "chromacens_features__chromacens.kurtosis.07",
         "rawType": "float64",
         "type": "float"
        },
        {
         "name": "chromacens_features__chromacens.kurtosis.08",
         "rawType": "float64",
         "type": "float"
        },
        {
         "name": "chromacens_features__chromacens.kurtosis.09",
         "rawType": "float64",
         "type": "float"
        },
        {
         "name": "chromacens_features__chromacens.kurtosis.10",
         "rawType": "float64",
         "type": "float"
        },
        {
         "name": "chromacens_features__chromacens.kurtosis.11",
         "rawType": "float64",
         "type": "float"
        },
        {
         "name": "chromacens_features__chromacens.kurtosis.12",
         "rawType": "float64",
         "type": "float"
        },
        {
         "name": "chromacens_features__chromacens.max.01",
         "rawType": "float64",
         "type": "float"
        },
        {
         "name": "chromacens_features__chromacens.max.02",
         "rawType": "float64",
         "type": "float"
        },
        {
         "name": "chromacens_features__chromacens.max.03",
         "rawType": "float64",
         "type": "float"
        },
        {
         "name": "chromacens_features__chromacens.max.04",
         "rawType": "float64",
         "type": "float"
        },
        {
         "name": "chromacens_features__chromacens.max.05",
         "rawType": "float64",
         "type": "float"
        },
        {
         "name": "chromacens_features__chromacens.max.06",
         "rawType": "float64",
         "type": "float"
        },
        {
         "name": "chromacens_features__chromacens.max.07",
         "rawType": "float64",
         "type": "float"
        },
        {
         "name": "chromacens_features__chromacens.max.08",
         "rawType": "float64",
         "type": "float"
        },
        {
         "name": "chromacens_features__chromacens.max.09",
         "rawType": "float64",
         "type": "float"
        },
        {
         "name": "chromacens_features__chromacens.max.10",
         "rawType": "float64",
         "type": "float"
        },
        {
         "name": "chromacens_features__chromacens.max.11",
         "rawType": "float64",
         "type": "float"
        },
        {
         "name": "chromacens_features__chromacens.max.12",
         "rawType": "float64",
         "type": "float"
        },
        {
         "name": "chromacens_features__chromacens.mean.01",
         "rawType": "float64",
         "type": "float"
        },
        {
         "name": "chromacens_features__chromacens.mean.02",
         "rawType": "float64",
         "type": "float"
        },
        {
         "name": "chromacens_features__chromacens.mean.03",
         "rawType": "float64",
         "type": "float"
        },
        {
         "name": "chromacens_features__chromacens.mean.04",
         "rawType": "float64",
         "type": "float"
        },
        {
         "name": "chromacens_features__chromacens.mean.05",
         "rawType": "float64",
         "type": "float"
        },
        {
         "name": "chromacens_features__chromacens.mean.06",
         "rawType": "float64",
         "type": "float"
        },
        {
         "name": "chromacens_features__chromacens.mean.07",
         "rawType": "float64",
         "type": "float"
        },
        {
         "name": "chromacens_features__chromacens.mean.08",
         "rawType": "float64",
         "type": "float"
        },
        {
         "name": "chromacens_features__chromacens.mean.09",
         "rawType": "float64",
         "type": "float"
        },
        {
         "name": "chromacens_features__chromacens.mean.10",
         "rawType": "float64",
         "type": "float"
        },
        {
         "name": "chromacens_features__chromacens.mean.11",
         "rawType": "float64",
         "type": "float"
        },
        {
         "name": "chromacens_features__chromacens.mean.12",
         "rawType": "float64",
         "type": "float"
        },
        {
         "name": "chromacens_features__chromacens.median.01",
         "rawType": "float64",
         "type": "float"
        },
        {
         "name": "chromacens_features__chromacens.median.02",
         "rawType": "float64",
         "type": "float"
        },
        {
         "name": "chromacens_features__chromacens.median.03",
         "rawType": "float64",
         "type": "float"
        },
        {
         "name": "chromacens_features__chromacens.median.04",
         "rawType": "float64",
         "type": "float"
        },
        {
         "name": "chromacens_features__chromacens.median.05",
         "rawType": "float64",
         "type": "float"
        },
        {
         "name": "chromacens_features__chromacens.median.06",
         "rawType": "float64",
         "type": "float"
        },
        {
         "name": "chromacens_features__chromacens.median.07",
         "rawType": "float64",
         "type": "float"
        },
        {
         "name": "chromacens_features__chromacens.median.08",
         "rawType": "float64",
         "type": "float"
        },
        {
         "name": "chromacens_features__chromacens.median.09",
         "rawType": "float64",
         "type": "float"
        },
        {
         "name": "chromacens_features__chromacens.median.10",
         "rawType": "float64",
         "type": "float"
        },
        {
         "name": "chromacens_features__chromacens.median.11",
         "rawType": "float64",
         "type": "float"
        },
        {
         "name": "chromacens_features__chromacens.median.12",
         "rawType": "float64",
         "type": "float"
        },
        {
         "name": "chromacens_features__chromacens.min.01",
         "rawType": "float64",
         "type": "float"
        },
        {
         "name": "chromacens_features__chromacens.min.02",
         "rawType": "float64",
         "type": "float"
        },
        {
         "name": "chromacens_features__chromacens.min.03",
         "rawType": "float64",
         "type": "float"
        },
        {
         "name": "chromacens_features__chromacens.min.04",
         "rawType": "float64",
         "type": "float"
        },
        {
         "name": "chromacens_features__chromacens.min.05",
         "rawType": "float64",
         "type": "float"
        },
        {
         "name": "chromacens_features__chromacens.min.06",
         "rawType": "float64",
         "type": "float"
        },
        {
         "name": "chromacens_features__chromacens.min.07",
         "rawType": "float64",
         "type": "float"
        },
        {
         "name": "chromacens_features__chromacens.min.08",
         "rawType": "float64",
         "type": "float"
        },
        {
         "name": "chromacens_features__chromacens.min.09",
         "rawType": "float64",
         "type": "float"
        },
        {
         "name": "chromacens_features__chromacens.min.10",
         "rawType": "float64",
         "type": "float"
        },
        {
         "name": "chromacens_features__chromacens.min.11",
         "rawType": "float64",
         "type": "float"
        },
        {
         "name": "chromacens_features__chromacens.min.12",
         "rawType": "float64",
         "type": "float"
        },
        {
         "name": "chromacens_features__chromacens.skew.01",
         "rawType": "float64",
         "type": "float"
        },
        {
         "name": "chromacens_features__chromacens.skew.02",
         "rawType": "float64",
         "type": "float"
        },
        {
         "name": "chromacens_features__chromacens.skew.03",
         "rawType": "float64",
         "type": "float"
        },
        {
         "name": "chromacens_features__chromacens.skew.04",
         "rawType": "float64",
         "type": "float"
        },
        {
         "name": "chromacens_features__chromacens.skew.05",
         "rawType": "float64",
         "type": "float"
        },
        {
         "name": "chromacens_features__chromacens.skew.06",
         "rawType": "float64",
         "type": "float"
        },
        {
         "name": "chromacens_features__chromacens.skew.07",
         "rawType": "float64",
         "type": "float"
        },
        {
         "name": "chromacens_features__chromacens.skew.08",
         "rawType": "float64",
         "type": "float"
        },
        {
         "name": "chromacens_features__chromacens.skew.09",
         "rawType": "float64",
         "type": "float"
        },
        {
         "name": "chromacens_features__chromacens.skew.10",
         "rawType": "float64",
         "type": "float"
        },
        {
         "name": "chromacens_features__chromacens.skew.11",
         "rawType": "float64",
         "type": "float"
        },
        {
         "name": "chromacens_features__chromacens.skew.12",
         "rawType": "float64",
         "type": "float"
        },
        {
         "name": "chromacens_features__chromacens.std.01",
         "rawType": "float64",
         "type": "float"
        },
        {
         "name": "chromacens_features__chromacens.std.02",
         "rawType": "float64",
         "type": "float"
        },
        {
         "name": "chromacens_features__chromacens.std.03",
         "rawType": "float64",
         "type": "float"
        },
        {
         "name": "chromacens_features__chromacens.std.04",
         "rawType": "float64",
         "type": "float"
        },
        {
         "name": "chromacens_features__chromacens.std.05",
         "rawType": "float64",
         "type": "float"
        },
        {
         "name": "chromacens_features__chromacens.std.06",
         "rawType": "float64",
         "type": "float"
        },
        {
         "name": "chromacens_features__chromacens.std.07",
         "rawType": "float64",
         "type": "float"
        },
        {
         "name": "chromacens_features__chromacens.std.08",
         "rawType": "float64",
         "type": "float"
        },
        {
         "name": "chromacens_features__chromacens.std.09",
         "rawType": "float64",
         "type": "float"
        },
        {
         "name": "chromacens_features__chromacens.std.10",
         "rawType": "float64",
         "type": "float"
        },
        {
         "name": "chromacens_features__chromacens.std.11",
         "rawType": "float64",
         "type": "float"
        },
        {
         "name": "chromacens_features__chromacens.std.12",
         "rawType": "float64",
         "type": "float"
        },
        {
         "name": "chromacqt_features__chromacqt.kurtosis.01",
         "rawType": "float64",
         "type": "float"
        },
        {
         "name": "chromacqt_features__chromacqt.kurtosis.02",
         "rawType": "float64",
         "type": "float"
        },
        {
         "name": "chromacqt_features__chromacqt.kurtosis.03",
         "rawType": "float64",
         "type": "float"
        },
        {
         "name": "chromacqt_features__chromacqt.kurtosis.04",
         "rawType": "float64",
         "type": "float"
        },
        {
         "name": "chromacqt_features__chromacqt.kurtosis.05",
         "rawType": "float64",
         "type": "float"
        },
        {
         "name": "chromacqt_features__chromacqt.kurtosis.06",
         "rawType": "float64",
         "type": "float"
        },
        {
         "name": "chromacqt_features__chromacqt.kurtosis.07",
         "rawType": "float64",
         "type": "float"
        },
        {
         "name": "chromacqt_features__chromacqt.kurtosis.08",
         "rawType": "float64",
         "type": "float"
        },
        {
         "name": "chromacqt_features__chromacqt.kurtosis.09",
         "rawType": "float64",
         "type": "float"
        },
        {
         "name": "chromacqt_features__chromacqt.kurtosis.10",
         "rawType": "float64",
         "type": "float"
        },
        {
         "name": "chromacqt_features__chromacqt.kurtosis.11",
         "rawType": "float64",
         "type": "float"
        },
        {
         "name": "chromacqt_features__chromacqt.kurtosis.12",
         "rawType": "float64",
         "type": "float"
        },
        {
         "name": "chromacqt_features__chromacqt.max.01",
         "rawType": "float64",
         "type": "float"
        },
        {
         "name": "chromacqt_features__chromacqt.max.02",
         "rawType": "float64",
         "type": "float"
        },
        {
         "name": "chromacqt_features__chromacqt.max.03",
         "rawType": "float64",
         "type": "float"
        },
        {
         "name": "chromacqt_features__chromacqt.max.04",
         "rawType": "float64",
         "type": "float"
        },
        {
         "name": "chromacqt_features__chromacqt.max.05",
         "rawType": "float64",
         "type": "float"
        },
        {
         "name": "chromacqt_features__chromacqt.max.06",
         "rawType": "float64",
         "type": "float"
        },
        {
         "name": "chromacqt_features__chromacqt.max.07",
         "rawType": "float64",
         "type": "float"
        },
        {
         "name": "chromacqt_features__chromacqt.max.08",
         "rawType": "float64",
         "type": "float"
        },
        {
         "name": "chromacqt_features__chromacqt.max.09",
         "rawType": "float64",
         "type": "float"
        },
        {
         "name": "chromacqt_features__chromacqt.max.10",
         "rawType": "float64",
         "type": "float"
        },
        {
         "name": "chromacqt_features__chromacqt.max.11",
         "rawType": "float64",
         "type": "float"
        },
        {
         "name": "chromacqt_features__chromacqt.max.12",
         "rawType": "float64",
         "type": "float"
        },
        {
         "name": "chromacqt_features__chromacqt.mean.01",
         "rawType": "float64",
         "type": "float"
        },
        {
         "name": "chromacqt_features__chromacqt.mean.02",
         "rawType": "float64",
         "type": "float"
        },
        {
         "name": "chromacqt_features__chromacqt.mean.03",
         "rawType": "float64",
         "type": "float"
        },
        {
         "name": "chromacqt_features__chromacqt.mean.04",
         "rawType": "float64",
         "type": "float"
        },
        {
         "name": "chromacqt_features__chromacqt.mean.05",
         "rawType": "float64",
         "type": "float"
        },
        {
         "name": "chromacqt_features__chromacqt.mean.06",
         "rawType": "float64",
         "type": "float"
        },
        {
         "name": "chromacqt_features__chromacqt.mean.07",
         "rawType": "float64",
         "type": "float"
        },
        {
         "name": "chromacqt_features__chromacqt.mean.08",
         "rawType": "float64",
         "type": "float"
        },
        {
         "name": "chromacqt_features__chromacqt.mean.09",
         "rawType": "float64",
         "type": "float"
        },
        {
         "name": "chromacqt_features__chromacqt.mean.10",
         "rawType": "float64",
         "type": "float"
        },
        {
         "name": "chromacqt_features__chromacqt.mean.11",
         "rawType": "float64",
         "type": "float"
        },
        {
         "name": "chromacqt_features__chromacqt.mean.12",
         "rawType": "float64",
         "type": "float"
        },
        {
         "name": "chromacqt_features__chromacqt.median.01",
         "rawType": "float64",
         "type": "float"
        },
        {
         "name": "chromacqt_features__chromacqt.median.02",
         "rawType": "float64",
         "type": "float"
        },
        {
         "name": "chromacqt_features__chromacqt.median.03",
         "rawType": "float64",
         "type": "float"
        },
        {
         "name": "chromacqt_features__chromacqt.median.04",
         "rawType": "float64",
         "type": "float"
        },
        {
         "name": "chromacqt_features__chromacqt.median.05",
         "rawType": "float64",
         "type": "float"
        },
        {
         "name": "chromacqt_features__chromacqt.median.06",
         "rawType": "float64",
         "type": "float"
        },
        {
         "name": "chromacqt_features__chromacqt.median.07",
         "rawType": "float64",
         "type": "float"
        },
        {
         "name": "chromacqt_features__chromacqt.median.08",
         "rawType": "float64",
         "type": "float"
        },
        {
         "name": "chromacqt_features__chromacqt.median.09",
         "rawType": "float64",
         "type": "float"
        },
        {
         "name": "chromacqt_features__chromacqt.median.10",
         "rawType": "float64",
         "type": "float"
        },
        {
         "name": "chromacqt_features__chromacqt.median.11",
         "rawType": "float64",
         "type": "float"
        },
        {
         "name": "chromacqt_features__chromacqt.median.12",
         "rawType": "float64",
         "type": "float"
        },
        {
         "name": "chromacqt_features__chromacqt.min.01",
         "rawType": "float64",
         "type": "float"
        },
        {
         "name": "chromacqt_features__chromacqt.min.02",
         "rawType": "float64",
         "type": "float"
        },
        {
         "name": "chromacqt_features__chromacqt.min.03",
         "rawType": "float64",
         "type": "float"
        },
        {
         "name": "chromacqt_features__chromacqt.min.04",
         "rawType": "float64",
         "type": "float"
        },
        {
         "name": "chromacqt_features__chromacqt.min.05",
         "rawType": "float64",
         "type": "float"
        },
        {
         "name": "chromacqt_features__chromacqt.min.06",
         "rawType": "float64",
         "type": "float"
        },
        {
         "name": "chromacqt_features__chromacqt.min.07",
         "rawType": "float64",
         "type": "float"
        },
        {
         "name": "chromacqt_features__chromacqt.min.08",
         "rawType": "float64",
         "type": "float"
        },
        {
         "name": "chromacqt_features__chromacqt.min.09",
         "rawType": "float64",
         "type": "float"
        },
        {
         "name": "chromacqt_features__chromacqt.min.10",
         "rawType": "float64",
         "type": "float"
        },
        {
         "name": "chromacqt_features__chromacqt.min.11",
         "rawType": "float64",
         "type": "float"
        },
        {
         "name": "chromacqt_features__chromacqt.min.12",
         "rawType": "float64",
         "type": "float"
        },
        {
         "name": "chromacqt_features__chromacqt.skew.01",
         "rawType": "float64",
         "type": "float"
        },
        {
         "name": "chromacqt_features__chromacqt.skew.02",
         "rawType": "float64",
         "type": "float"
        },
        {
         "name": "chromacqt_features__chromacqt.skew.03",
         "rawType": "float64",
         "type": "float"
        },
        {
         "name": "chromacqt_features__chromacqt.skew.04",
         "rawType": "float64",
         "type": "float"
        },
        {
         "name": "chromacqt_features__chromacqt.skew.05",
         "rawType": "float64",
         "type": "float"
        },
        {
         "name": "chromacqt_features__chromacqt.skew.06",
         "rawType": "float64",
         "type": "float"
        },
        {
         "name": "chromacqt_features__chromacqt.skew.07",
         "rawType": "float64",
         "type": "float"
        },
        {
         "name": "chromacqt_features__chromacqt.skew.08",
         "rawType": "float64",
         "type": "float"
        },
        {
         "name": "chromacqt_features__chromacqt.skew.09",
         "rawType": "float64",
         "type": "float"
        },
        {
         "name": "chromacqt_features__chromacqt.skew.10",
         "rawType": "float64",
         "type": "float"
        },
        {
         "name": "chromacqt_features__chromacqt.skew.11",
         "rawType": "float64",
         "type": "float"
        },
        {
         "name": "chromacqt_features__chromacqt.skew.12",
         "rawType": "float64",
         "type": "float"
        },
        {
         "name": "chromacqt_features__chromacqt.std.01",
         "rawType": "float64",
         "type": "float"
        },
        {
         "name": "chromacqt_features__chromacqt.std.02",
         "rawType": "float64",
         "type": "float"
        },
        {
         "name": "chromacqt_features__chromacqt.std.03",
         "rawType": "float64",
         "type": "float"
        },
        {
         "name": "chromacqt_features__chromacqt.std.04",
         "rawType": "float64",
         "type": "float"
        },
        {
         "name": "chromacqt_features__chromacqt.std.05",
         "rawType": "float64",
         "type": "float"
        },
        {
         "name": "chromacqt_features__chromacqt.std.06",
         "rawType": "float64",
         "type": "float"
        },
        {
         "name": "chromacqt_features__chromacqt.std.07",
         "rawType": "float64",
         "type": "float"
        },
        {
         "name": "chromacqt_features__chromacqt.std.08",
         "rawType": "float64",
         "type": "float"
        },
        {
         "name": "chromacqt_features__chromacqt.std.09",
         "rawType": "float64",
         "type": "float"
        },
        {
         "name": "chromacqt_features__chromacqt.std.10",
         "rawType": "float64",
         "type": "float"
        },
        {
         "name": "chromacqt_features__chromacqt.std.11",
         "rawType": "float64",
         "type": "float"
        },
        {
         "name": "chromacqt_features__chromacqt.std.12",
         "rawType": "float64",
         "type": "float"
        },
        {
         "name": "chromastft_features__chromastft.kurtosis.01",
         "rawType": "float64",
         "type": "float"
        },
        {
         "name": "chromastft_features__chromastft.kurtosis.02",
         "rawType": "float64",
         "type": "float"
        },
        {
         "name": "chromastft_features__chromastft.kurtosis.03",
         "rawType": "float64",
         "type": "float"
        },
        {
         "name": "chromastft_features__chromastft.kurtosis.04",
         "rawType": "float64",
         "type": "float"
        },
        {
         "name": "chromastft_features__chromastft.kurtosis.05",
         "rawType": "float64",
         "type": "float"
        },
        {
         "name": "chromastft_features__chromastft.kurtosis.06",
         "rawType": "float64",
         "type": "float"
        },
        {
         "name": "chromastft_features__chromastft.kurtosis.07",
         "rawType": "float64",
         "type": "float"
        },
        {
         "name": "chromastft_features__chromastft.kurtosis.08",
         "rawType": "float64",
         "type": "float"
        },
        {
         "name": "chromastft_features__chromastft.kurtosis.09",
         "rawType": "float64",
         "type": "float"
        },
        {
         "name": "chromastft_features__chromastft.kurtosis.10",
         "rawType": "float64",
         "type": "float"
        },
        {
         "name": "chromastft_features__chromastft.kurtosis.11",
         "rawType": "float64",
         "type": "float"
        },
        {
         "name": "chromastft_features__chromastft.kurtosis.12",
         "rawType": "float64",
         "type": "float"
        },
        {
         "name": "chromastft_features__chromastft.max.01",
         "rawType": "float64",
         "type": "float"
        },
        {
         "name": "chromastft_features__chromastft.max.02",
         "rawType": "float64",
         "type": "float"
        },
        {
         "name": "chromastft_features__chromastft.max.03",
         "rawType": "float64",
         "type": "float"
        },
        {
         "name": "chromastft_features__chromastft.max.04",
         "rawType": "float64",
         "type": "float"
        },
        {
         "name": "chromastft_features__chromastft.max.05",
         "rawType": "float64",
         "type": "float"
        },
        {
         "name": "chromastft_features__chromastft.max.06",
         "rawType": "float64",
         "type": "float"
        },
        {
         "name": "chromastft_features__chromastft.max.07",
         "rawType": "float64",
         "type": "float"
        },
        {
         "name": "chromastft_features__chromastft.max.08",
         "rawType": "float64",
         "type": "float"
        },
        {
         "name": "chromastft_features__chromastft.max.09",
         "rawType": "float64",
         "type": "float"
        },
        {
         "name": "chromastft_features__chromastft.max.10",
         "rawType": "float64",
         "type": "float"
        },
        {
         "name": "chromastft_features__chromastft.max.11",
         "rawType": "float64",
         "type": "float"
        },
        {
         "name": "chromastft_features__chromastft.max.12",
         "rawType": "float64",
         "type": "float"
        },
        {
         "name": "chromastft_features__chromastft.mean.01",
         "rawType": "float64",
         "type": "float"
        },
        {
         "name": "chromastft_features__chromastft.mean.02",
         "rawType": "float64",
         "type": "float"
        },
        {
         "name": "chromastft_features__chromastft.mean.03",
         "rawType": "float64",
         "type": "float"
        },
        {
         "name": "chromastft_features__chromastft.mean.04",
         "rawType": "float64",
         "type": "float"
        },
        {
         "name": "chromastft_features__chromastft.mean.05",
         "rawType": "float64",
         "type": "float"
        },
        {
         "name": "chromastft_features__chromastft.mean.06",
         "rawType": "float64",
         "type": "float"
        },
        {
         "name": "chromastft_features__chromastft.mean.07",
         "rawType": "float64",
         "type": "float"
        },
        {
         "name": "chromastft_features__chromastft.mean.08",
         "rawType": "float64",
         "type": "float"
        },
        {
         "name": "chromastft_features__chromastft.mean.09",
         "rawType": "float64",
         "type": "float"
        },
        {
         "name": "chromastft_features__chromastft.mean.10",
         "rawType": "float64",
         "type": "float"
        },
        {
         "name": "chromastft_features__chromastft.mean.11",
         "rawType": "float64",
         "type": "float"
        },
        {
         "name": "chromastft_features__chromastft.mean.12",
         "rawType": "float64",
         "type": "float"
        },
        {
         "name": "chromastft_features__chromastft.median.01",
         "rawType": "float64",
         "type": "float"
        },
        {
         "name": "chromastft_features__chromastft.median.02",
         "rawType": "float64",
         "type": "float"
        },
        {
         "name": "chromastft_features__chromastft.median.03",
         "rawType": "float64",
         "type": "float"
        },
        {
         "name": "chromastft_features__chromastft.median.04",
         "rawType": "float64",
         "type": "float"
        },
        {
         "name": "chromastft_features__chromastft.median.05",
         "rawType": "float64",
         "type": "float"
        },
        {
         "name": "chromastft_features__chromastft.median.06",
         "rawType": "float64",
         "type": "float"
        },
        {
         "name": "chromastft_features__chromastft.median.07",
         "rawType": "float64",
         "type": "float"
        },
        {
         "name": "chromastft_features__chromastft.median.08",
         "rawType": "float64",
         "type": "float"
        },
        {
         "name": "chromastft_features__chromastft.median.09",
         "rawType": "float64",
         "type": "float"
        },
        {
         "name": "chromastft_features__chromastft.median.10",
         "rawType": "float64",
         "type": "float"
        },
        {
         "name": "chromastft_features__chromastft.median.11",
         "rawType": "float64",
         "type": "float"
        },
        {
         "name": "chromastft_features__chromastft.median.12",
         "rawType": "float64",
         "type": "float"
        },
        {
         "name": "chromastft_features__chromastft.min.01",
         "rawType": "float64",
         "type": "float"
        },
        {
         "name": "chromastft_features__chromastft.min.02",
         "rawType": "float64",
         "type": "float"
        },
        {
         "name": "chromastft_features__chromastft.min.03",
         "rawType": "float64",
         "type": "float"
        },
        {
         "name": "chromastft_features__chromastft.min.04",
         "rawType": "float64",
         "type": "float"
        },
        {
         "name": "chromastft_features__chromastft.min.05",
         "rawType": "float64",
         "type": "float"
        },
        {
         "name": "chromastft_features__chromastft.min.06",
         "rawType": "float64",
         "type": "float"
        },
        {
         "name": "chromastft_features__chromastft.min.07",
         "rawType": "float64",
         "type": "float"
        },
        {
         "name": "chromastft_features__chromastft.min.08",
         "rawType": "float64",
         "type": "float"
        },
        {
         "name": "chromastft_features__chromastft.min.09",
         "rawType": "float64",
         "type": "float"
        },
        {
         "name": "chromastft_features__chromastft.min.10",
         "rawType": "float64",
         "type": "float"
        },
        {
         "name": "chromastft_features__chromastft.min.11",
         "rawType": "float64",
         "type": "float"
        },
        {
         "name": "chromastft_features__chromastft.min.12",
         "rawType": "float64",
         "type": "float"
        },
        {
         "name": "chromastft_features__chromastft.skew.01",
         "rawType": "float64",
         "type": "float"
        },
        {
         "name": "chromastft_features__chromastft.skew.02",
         "rawType": "float64",
         "type": "float"
        },
        {
         "name": "chromastft_features__chromastft.skew.03",
         "rawType": "float64",
         "type": "float"
        },
        {
         "name": "chromastft_features__chromastft.skew.04",
         "rawType": "float64",
         "type": "float"
        },
        {
         "name": "chromastft_features__chromastft.skew.05",
         "rawType": "float64",
         "type": "float"
        },
        {
         "name": "chromastft_features__chromastft.skew.06",
         "rawType": "float64",
         "type": "float"
        },
        {
         "name": "chromastft_features__chromastft.skew.07",
         "rawType": "float64",
         "type": "float"
        },
        {
         "name": "chromastft_features__chromastft.skew.08",
         "rawType": "float64",
         "type": "float"
        },
        {
         "name": "chromastft_features__chromastft.skew.09",
         "rawType": "float64",
         "type": "float"
        },
        {
         "name": "chromastft_features__chromastft.skew.10",
         "rawType": "float64",
         "type": "float"
        },
        {
         "name": "chromastft_features__chromastft.skew.11",
         "rawType": "float64",
         "type": "float"
        },
        {
         "name": "chromastft_features__chromastft.skew.12",
         "rawType": "float64",
         "type": "float"
        },
        {
         "name": "chromastft_features__chromastft.std.01",
         "rawType": "float64",
         "type": "float"
        },
        {
         "name": "chromastft_features__chromastft.std.02",
         "rawType": "float64",
         "type": "float"
        },
        {
         "name": "chromastft_features__chromastft.std.03",
         "rawType": "float64",
         "type": "float"
        },
        {
         "name": "chromastft_features__chromastft.std.04",
         "rawType": "float64",
         "type": "float"
        },
        {
         "name": "chromastft_features__chromastft.std.05",
         "rawType": "float64",
         "type": "float"
        },
        {
         "name": "chromastft_features__chromastft.std.06",
         "rawType": "float64",
         "type": "float"
        },
        {
         "name": "chromastft_features__chromastft.std.07",
         "rawType": "float64",
         "type": "float"
        },
        {
         "name": "chromastft_features__chromastft.std.08",
         "rawType": "float64",
         "type": "float"
        },
        {
         "name": "chromastft_features__chromastft.std.09",
         "rawType": "float64",
         "type": "float"
        },
        {
         "name": "chromastft_features__chromastft.std.10",
         "rawType": "float64",
         "type": "float"
        },
        {
         "name": "chromastft_features__chromastft.std.11",
         "rawType": "float64",
         "type": "float"
        },
        {
         "name": "chromastft_features__chromastft.std.12",
         "rawType": "float64",
         "type": "float"
        },
        {
         "name": "mfcc_features__mfcc.kurtosis.01",
         "rawType": "float64",
         "type": "float"
        },
        {
         "name": "mfcc_features__mfcc.kurtosis.02",
         "rawType": "float64",
         "type": "float"
        },
        {
         "name": "mfcc_features__mfcc.kurtosis.03",
         "rawType": "float64",
         "type": "float"
        },
        {
         "name": "mfcc_features__mfcc.kurtosis.04",
         "rawType": "float64",
         "type": "float"
        },
        {
         "name": "mfcc_features__mfcc.kurtosis.05",
         "rawType": "float64",
         "type": "float"
        },
        {
         "name": "mfcc_features__mfcc.kurtosis.06",
         "rawType": "float64",
         "type": "float"
        },
        {
         "name": "mfcc_features__mfcc.kurtosis.07",
         "rawType": "float64",
         "type": "float"
        },
        {
         "name": "mfcc_features__mfcc.kurtosis.08",
         "rawType": "float64",
         "type": "float"
        },
        {
         "name": "mfcc_features__mfcc.kurtosis.09",
         "rawType": "float64",
         "type": "float"
        },
        {
         "name": "mfcc_features__mfcc.kurtosis.10",
         "rawType": "float64",
         "type": "float"
        },
        {
         "name": "mfcc_features__mfcc.kurtosis.11",
         "rawType": "float64",
         "type": "float"
        },
        {
         "name": "mfcc_features__mfcc.kurtosis.12",
         "rawType": "float64",
         "type": "float"
        },
        {
         "name": "mfcc_features__mfcc.kurtosis.13",
         "rawType": "float64",
         "type": "float"
        },
        {
         "name": "mfcc_features__mfcc.kurtosis.14",
         "rawType": "float64",
         "type": "float"
        },
        {
         "name": "mfcc_features__mfcc.kurtosis.15",
         "rawType": "float64",
         "type": "float"
        },
        {
         "name": "mfcc_features__mfcc.kurtosis.16",
         "rawType": "float64",
         "type": "float"
        },
        {
         "name": "mfcc_features__mfcc.kurtosis.17",
         "rawType": "float64",
         "type": "float"
        },
        {
         "name": "mfcc_features__mfcc.kurtosis.18",
         "rawType": "float64",
         "type": "float"
        },
        {
         "name": "mfcc_features__mfcc.kurtosis.19",
         "rawType": "float64",
         "type": "float"
        },
        {
         "name": "mfcc_features__mfcc.kurtosis.20",
         "rawType": "float64",
         "type": "float"
        },
        {
         "name": "mfcc_features__mfcc.max.01",
         "rawType": "float64",
         "type": "float"
        },
        {
         "name": "mfcc_features__mfcc.max.02",
         "rawType": "float64",
         "type": "float"
        },
        {
         "name": "mfcc_features__mfcc.max.03",
         "rawType": "float64",
         "type": "float"
        },
        {
         "name": "mfcc_features__mfcc.max.04",
         "rawType": "float64",
         "type": "float"
        },
        {
         "name": "mfcc_features__mfcc.max.05",
         "rawType": "float64",
         "type": "float"
        },
        {
         "name": "mfcc_features__mfcc.max.06",
         "rawType": "float64",
         "type": "float"
        },
        {
         "name": "mfcc_features__mfcc.max.07",
         "rawType": "float64",
         "type": "float"
        },
        {
         "name": "mfcc_features__mfcc.max.08",
         "rawType": "float64",
         "type": "float"
        },
        {
         "name": "mfcc_features__mfcc.max.09",
         "rawType": "float64",
         "type": "float"
        },
        {
         "name": "mfcc_features__mfcc.max.10",
         "rawType": "float64",
         "type": "float"
        },
        {
         "name": "mfcc_features__mfcc.max.11",
         "rawType": "float64",
         "type": "float"
        },
        {
         "name": "mfcc_features__mfcc.max.12",
         "rawType": "float64",
         "type": "float"
        },
        {
         "name": "mfcc_features__mfcc.max.13",
         "rawType": "float64",
         "type": "float"
        },
        {
         "name": "mfcc_features__mfcc.max.14",
         "rawType": "float64",
         "type": "float"
        },
        {
         "name": "mfcc_features__mfcc.max.15",
         "rawType": "float64",
         "type": "float"
        },
        {
         "name": "mfcc_features__mfcc.max.16",
         "rawType": "float64",
         "type": "float"
        },
        {
         "name": "mfcc_features__mfcc.max.17",
         "rawType": "float64",
         "type": "float"
        },
        {
         "name": "mfcc_features__mfcc.max.18",
         "rawType": "float64",
         "type": "float"
        },
        {
         "name": "mfcc_features__mfcc.max.19",
         "rawType": "float64",
         "type": "float"
        },
        {
         "name": "mfcc_features__mfcc.max.20",
         "rawType": "float64",
         "type": "float"
        },
        {
         "name": "mfcc_features__mfcc.mean.01",
         "rawType": "float64",
         "type": "float"
        },
        {
         "name": "mfcc_features__mfcc.mean.02",
         "rawType": "float64",
         "type": "float"
        },
        {
         "name": "mfcc_features__mfcc.mean.03",
         "rawType": "float64",
         "type": "float"
        },
        {
         "name": "mfcc_features__mfcc.mean.04",
         "rawType": "float64",
         "type": "float"
        },
        {
         "name": "mfcc_features__mfcc.mean.05",
         "rawType": "float64",
         "type": "float"
        },
        {
         "name": "mfcc_features__mfcc.mean.06",
         "rawType": "float64",
         "type": "float"
        },
        {
         "name": "mfcc_features__mfcc.mean.07",
         "rawType": "float64",
         "type": "float"
        },
        {
         "name": "mfcc_features__mfcc.mean.08",
         "rawType": "float64",
         "type": "float"
        },
        {
         "name": "mfcc_features__mfcc.mean.09",
         "rawType": "float64",
         "type": "float"
        },
        {
         "name": "mfcc_features__mfcc.mean.10",
         "rawType": "float64",
         "type": "float"
        },
        {
         "name": "mfcc_features__mfcc.mean.11",
         "rawType": "float64",
         "type": "float"
        },
        {
         "name": "mfcc_features__mfcc.mean.12",
         "rawType": "float64",
         "type": "float"
        },
        {
         "name": "mfcc_features__mfcc.mean.13",
         "rawType": "float64",
         "type": "float"
        },
        {
         "name": "mfcc_features__mfcc.mean.14",
         "rawType": "float64",
         "type": "float"
        },
        {
         "name": "mfcc_features__mfcc.mean.15",
         "rawType": "float64",
         "type": "float"
        },
        {
         "name": "mfcc_features__mfcc.mean.16",
         "rawType": "float64",
         "type": "float"
        },
        {
         "name": "mfcc_features__mfcc.mean.17",
         "rawType": "float64",
         "type": "float"
        },
        {
         "name": "mfcc_features__mfcc.mean.18",
         "rawType": "float64",
         "type": "float"
        },
        {
         "name": "mfcc_features__mfcc.mean.19",
         "rawType": "float64",
         "type": "float"
        },
        {
         "name": "mfcc_features__mfcc.mean.20",
         "rawType": "float64",
         "type": "float"
        },
        {
         "name": "mfcc_features__mfcc.median.01",
         "rawType": "float64",
         "type": "float"
        },
        {
         "name": "mfcc_features__mfcc.median.02",
         "rawType": "float64",
         "type": "float"
        },
        {
         "name": "mfcc_features__mfcc.median.03",
         "rawType": "float64",
         "type": "float"
        },
        {
         "name": "mfcc_features__mfcc.median.04",
         "rawType": "float64",
         "type": "float"
        },
        {
         "name": "mfcc_features__mfcc.median.05",
         "rawType": "float64",
         "type": "float"
        },
        {
         "name": "mfcc_features__mfcc.median.06",
         "rawType": "float64",
         "type": "float"
        },
        {
         "name": "mfcc_features__mfcc.median.07",
         "rawType": "float64",
         "type": "float"
        },
        {
         "name": "mfcc_features__mfcc.median.08",
         "rawType": "float64",
         "type": "float"
        },
        {
         "name": "mfcc_features__mfcc.median.09",
         "rawType": "float64",
         "type": "float"
        },
        {
         "name": "mfcc_features__mfcc.median.10",
         "rawType": "float64",
         "type": "float"
        },
        {
         "name": "mfcc_features__mfcc.median.11",
         "rawType": "float64",
         "type": "float"
        },
        {
         "name": "mfcc_features__mfcc.median.12",
         "rawType": "float64",
         "type": "float"
        },
        {
         "name": "mfcc_features__mfcc.median.13",
         "rawType": "float64",
         "type": "float"
        },
        {
         "name": "mfcc_features__mfcc.median.14",
         "rawType": "float64",
         "type": "float"
        },
        {
         "name": "mfcc_features__mfcc.median.15",
         "rawType": "float64",
         "type": "float"
        },
        {
         "name": "mfcc_features__mfcc.median.16",
         "rawType": "float64",
         "type": "float"
        },
        {
         "name": "mfcc_features__mfcc.median.17",
         "rawType": "float64",
         "type": "float"
        },
        {
         "name": "mfcc_features__mfcc.median.18",
         "rawType": "float64",
         "type": "float"
        },
        {
         "name": "mfcc_features__mfcc.median.19",
         "rawType": "float64",
         "type": "float"
        },
        {
         "name": "mfcc_features__mfcc.median.20",
         "rawType": "float64",
         "type": "float"
        },
        {
         "name": "mfcc_features__mfcc.min.01",
         "rawType": "float64",
         "type": "float"
        },
        {
         "name": "mfcc_features__mfcc.min.02",
         "rawType": "float64",
         "type": "float"
        },
        {
         "name": "mfcc_features__mfcc.min.03",
         "rawType": "float64",
         "type": "float"
        },
        {
         "name": "mfcc_features__mfcc.min.04",
         "rawType": "float64",
         "type": "float"
        },
        {
         "name": "mfcc_features__mfcc.min.05",
         "rawType": "float64",
         "type": "float"
        },
        {
         "name": "mfcc_features__mfcc.min.06",
         "rawType": "float64",
         "type": "float"
        },
        {
         "name": "mfcc_features__mfcc.min.07",
         "rawType": "float64",
         "type": "float"
        },
        {
         "name": "mfcc_features__mfcc.min.08",
         "rawType": "float64",
         "type": "float"
        },
        {
         "name": "mfcc_features__mfcc.min.09",
         "rawType": "float64",
         "type": "float"
        },
        {
         "name": "mfcc_features__mfcc.min.10",
         "rawType": "float64",
         "type": "float"
        },
        {
         "name": "mfcc_features__mfcc.min.11",
         "rawType": "float64",
         "type": "float"
        },
        {
         "name": "mfcc_features__mfcc.min.12",
         "rawType": "float64",
         "type": "float"
        },
        {
         "name": "mfcc_features__mfcc.min.13",
         "rawType": "float64",
         "type": "float"
        },
        {
         "name": "mfcc_features__mfcc.min.14",
         "rawType": "float64",
         "type": "float"
        },
        {
         "name": "mfcc_features__mfcc.min.15",
         "rawType": "float64",
         "type": "float"
        },
        {
         "name": "mfcc_features__mfcc.min.16",
         "rawType": "float64",
         "type": "float"
        },
        {
         "name": "mfcc_features__mfcc.min.17",
         "rawType": "float64",
         "type": "float"
        },
        {
         "name": "mfcc_features__mfcc.min.18",
         "rawType": "float64",
         "type": "float"
        },
        {
         "name": "mfcc_features__mfcc.min.19",
         "rawType": "float64",
         "type": "float"
        },
        {
         "name": "mfcc_features__mfcc.min.20",
         "rawType": "float64",
         "type": "float"
        },
        {
         "name": "mfcc_features__mfcc.skew.01",
         "rawType": "float64",
         "type": "float"
        },
        {
         "name": "mfcc_features__mfcc.skew.02",
         "rawType": "float64",
         "type": "float"
        },
        {
         "name": "mfcc_features__mfcc.skew.03",
         "rawType": "float64",
         "type": "float"
        },
        {
         "name": "mfcc_features__mfcc.skew.04",
         "rawType": "float64",
         "type": "float"
        },
        {
         "name": "mfcc_features__mfcc.skew.05",
         "rawType": "float64",
         "type": "float"
        },
        {
         "name": "mfcc_features__mfcc.skew.06",
         "rawType": "float64",
         "type": "float"
        },
        {
         "name": "mfcc_features__mfcc.skew.07",
         "rawType": "float64",
         "type": "float"
        },
        {
         "name": "mfcc_features__mfcc.skew.08",
         "rawType": "float64",
         "type": "float"
        },
        {
         "name": "mfcc_features__mfcc.skew.09",
         "rawType": "float64",
         "type": "float"
        },
        {
         "name": "mfcc_features__mfcc.skew.10",
         "rawType": "float64",
         "type": "float"
        },
        {
         "name": "mfcc_features__mfcc.skew.11",
         "rawType": "float64",
         "type": "float"
        },
        {
         "name": "mfcc_features__mfcc.skew.12",
         "rawType": "float64",
         "type": "float"
        },
        {
         "name": "mfcc_features__mfcc.skew.13",
         "rawType": "float64",
         "type": "float"
        },
        {
         "name": "mfcc_features__mfcc.skew.14",
         "rawType": "float64",
         "type": "float"
        },
        {
         "name": "mfcc_features__mfcc.skew.15",
         "rawType": "float64",
         "type": "float"
        },
        {
         "name": "mfcc_features__mfcc.skew.16",
         "rawType": "float64",
         "type": "float"
        },
        {
         "name": "mfcc_features__mfcc.skew.17",
         "rawType": "float64",
         "type": "float"
        },
        {
         "name": "mfcc_features__mfcc.skew.18",
         "rawType": "float64",
         "type": "float"
        },
        {
         "name": "mfcc_features__mfcc.skew.19",
         "rawType": "float64",
         "type": "float"
        },
        {
         "name": "mfcc_features__mfcc.skew.20",
         "rawType": "float64",
         "type": "float"
        },
        {
         "name": "mfcc_features__mfcc.std.01",
         "rawType": "float64",
         "type": "float"
        },
        {
         "name": "mfcc_features__mfcc.std.02",
         "rawType": "float64",
         "type": "float"
        },
        {
         "name": "mfcc_features__mfcc.std.03",
         "rawType": "float64",
         "type": "float"
        },
        {
         "name": "mfcc_features__mfcc.std.04",
         "rawType": "float64",
         "type": "float"
        },
        {
         "name": "mfcc_features__mfcc.std.05",
         "rawType": "float64",
         "type": "float"
        },
        {
         "name": "mfcc_features__mfcc.std.06",
         "rawType": "float64",
         "type": "float"
        },
        {
         "name": "mfcc_features__mfcc.std.07",
         "rawType": "float64",
         "type": "float"
        },
        {
         "name": "mfcc_features__mfcc.std.08",
         "rawType": "float64",
         "type": "float"
        },
        {
         "name": "mfcc_features__mfcc.std.09",
         "rawType": "float64",
         "type": "float"
        },
        {
         "name": "mfcc_features__mfcc.std.10",
         "rawType": "float64",
         "type": "float"
        },
        {
         "name": "mfcc_features__mfcc.std.11",
         "rawType": "float64",
         "type": "float"
        },
        {
         "name": "mfcc_features__mfcc.std.12",
         "rawType": "float64",
         "type": "float"
        },
        {
         "name": "mfcc_features__mfcc.std.13",
         "rawType": "float64",
         "type": "float"
        },
        {
         "name": "mfcc_features__mfcc.std.14",
         "rawType": "float64",
         "type": "float"
        },
        {
         "name": "mfcc_features__mfcc.std.15",
         "rawType": "float64",
         "type": "float"
        },
        {
         "name": "mfcc_features__mfcc.std.16",
         "rawType": "float64",
         "type": "float"
        },
        {
         "name": "mfcc_features__mfcc.std.17",
         "rawType": "float64",
         "type": "float"
        },
        {
         "name": "mfcc_features__mfcc.std.18",
         "rawType": "float64",
         "type": "float"
        },
        {
         "name": "mfcc_features__mfcc.std.19",
         "rawType": "float64",
         "type": "float"
        },
        {
         "name": "mfcc_features__mfcc.std.20",
         "rawType": "float64",
         "type": "float"
        },
        {
         "name": "rmse_features__rmse.kurtosis.01",
         "rawType": "float64",
         "type": "float"
        },
        {
         "name": "rmse_features__rmse.max.01",
         "rawType": "float64",
         "type": "float"
        },
        {
         "name": "rmse_features__rmse.mean.01",
         "rawType": "float64",
         "type": "float"
        },
        {
         "name": "rmse_features__rmse.median.01",
         "rawType": "float64",
         "type": "float"
        },
        {
         "name": "rmse_features__rmse.min.01",
         "rawType": "float64",
         "type": "float"
        },
        {
         "name": "rmse_features__rmse.skew.01",
         "rawType": "float64",
         "type": "float"
        },
        {
         "name": "rmse_features__rmse.std.01",
         "rawType": "float64",
         "type": "float"
        },
        {
         "name": "spectral_features__spectralbandwidth.kurtosis.01",
         "rawType": "float64",
         "type": "float"
        },
        {
         "name": "spectral_features__spectralbandwidth.max.01",
         "rawType": "float64",
         "type": "float"
        },
        {
         "name": "spectral_features__spectralbandwidth.mean.01",
         "rawType": "float64",
         "type": "float"
        },
        {
         "name": "spectral_features__spectralbandwidth.median.01",
         "rawType": "float64",
         "type": "float"
        },
        {
         "name": "spectral_features__spectralbandwidth.min.01",
         "rawType": "float64",
         "type": "float"
        },
        {
         "name": "spectral_features__spectralbandwidth.skew.01",
         "rawType": "float64",
         "type": "float"
        },
        {
         "name": "spectral_features__spectralbandwidth.std.01",
         "rawType": "float64",
         "type": "float"
        },
        {
         "name": "spectral_features__spectralcentroid.kurtosis.01",
         "rawType": "float64",
         "type": "float"
        },
        {
         "name": "spectral_features__spectralcentroid.max.01",
         "rawType": "float64",
         "type": "float"
        },
        {
         "name": "spectral_features__spectralcentroid.mean.01",
         "rawType": "float64",
         "type": "float"
        },
        {
         "name": "spectral_features__spectralcentroid.median.01",
         "rawType": "float64",
         "type": "float"
        },
        {
         "name": "spectral_features__spectralcentroid.min.01",
         "rawType": "float64",
         "type": "float"
        },
        {
         "name": "spectral_features__spectralcentroid.skew.01",
         "rawType": "float64",
         "type": "float"
        },
        {
         "name": "spectral_features__spectralcentroid.std.01",
         "rawType": "float64",
         "type": "float"
        },
        {
         "name": "spectral_features__spectralcontrast.kurtosis.01",
         "rawType": "float64",
         "type": "float"
        },
        {
         "name": "spectral_features__spectralcontrast.kurtosis.02",
         "rawType": "float64",
         "type": "float"
        },
        {
         "name": "spectral_features__spectralcontrast.kurtosis.03",
         "rawType": "float64",
         "type": "float"
        },
        {
         "name": "spectral_features__spectralcontrast.kurtosis.04",
         "rawType": "float64",
         "type": "float"
        },
        {
         "name": "spectral_features__spectralcontrast.kurtosis.05",
         "rawType": "float64",
         "type": "float"
        },
        {
         "name": "spectral_features__spectralcontrast.kurtosis.06",
         "rawType": "float64",
         "type": "float"
        },
        {
         "name": "spectral_features__spectralcontrast.kurtosis.07",
         "rawType": "float64",
         "type": "float"
        },
        {
         "name": "spectral_features__spectralcontrast.max.01",
         "rawType": "float64",
         "type": "float"
        },
        {
         "name": "spectral_features__spectralcontrast.max.02",
         "rawType": "float64",
         "type": "float"
        },
        {
         "name": "spectral_features__spectralcontrast.max.03",
         "rawType": "float64",
         "type": "float"
        },
        {
         "name": "spectral_features__spectralcontrast.max.04",
         "rawType": "float64",
         "type": "float"
        },
        {
         "name": "spectral_features__spectralcontrast.max.05",
         "rawType": "float64",
         "type": "float"
        },
        {
         "name": "spectral_features__spectralcontrast.max.06",
         "rawType": "float64",
         "type": "float"
        },
        {
         "name": "spectral_features__spectralcontrast.max.07",
         "rawType": "float64",
         "type": "float"
        },
        {
         "name": "spectral_features__spectralcontrast.mean.01",
         "rawType": "float64",
         "type": "float"
        },
        {
         "name": "spectral_features__spectralcontrast.mean.02",
         "rawType": "float64",
         "type": "float"
        },
        {
         "name": "spectral_features__spectralcontrast.mean.03",
         "rawType": "float64",
         "type": "float"
        },
        {
         "name": "spectral_features__spectralcontrast.mean.04",
         "rawType": "float64",
         "type": "float"
        },
        {
         "name": "spectral_features__spectralcontrast.mean.05",
         "rawType": "float64",
         "type": "float"
        },
        {
         "name": "spectral_features__spectralcontrast.mean.06",
         "rawType": "float64",
         "type": "float"
        },
        {
         "name": "spectral_features__spectralcontrast.mean.07",
         "rawType": "float64",
         "type": "float"
        },
        {
         "name": "spectral_features__spectralcontrast.median.01",
         "rawType": "float64",
         "type": "float"
        },
        {
         "name": "spectral_features__spectralcontrast.median.02",
         "rawType": "float64",
         "type": "float"
        },
        {
         "name": "spectral_features__spectralcontrast.median.03",
         "rawType": "float64",
         "type": "float"
        },
        {
         "name": "spectral_features__spectralcontrast.median.04",
         "rawType": "float64",
         "type": "float"
        },
        {
         "name": "spectral_features__spectralcontrast.median.05",
         "rawType": "float64",
         "type": "float"
        },
        {
         "name": "spectral_features__spectralcontrast.median.06",
         "rawType": "float64",
         "type": "float"
        },
        {
         "name": "spectral_features__spectralcontrast.median.07",
         "rawType": "float64",
         "type": "float"
        },
        {
         "name": "spectral_features__spectralcontrast.min.01",
         "rawType": "float64",
         "type": "float"
        },
        {
         "name": "spectral_features__spectralcontrast.min.02",
         "rawType": "float64",
         "type": "float"
        },
        {
         "name": "spectral_features__spectralcontrast.min.03",
         "rawType": "float64",
         "type": "float"
        },
        {
         "name": "spectral_features__spectralcontrast.min.04",
         "rawType": "float64",
         "type": "float"
        },
        {
         "name": "spectral_features__spectralcontrast.min.05",
         "rawType": "float64",
         "type": "float"
        },
        {
         "name": "spectral_features__spectralcontrast.min.06",
         "rawType": "float64",
         "type": "float"
        },
        {
         "name": "spectral_features__spectralcontrast.min.07",
         "rawType": "float64",
         "type": "float"
        },
        {
         "name": "spectral_features__spectralcontrast.skew.01",
         "rawType": "float64",
         "type": "float"
        },
        {
         "name": "spectral_features__spectralcontrast.skew.02",
         "rawType": "float64",
         "type": "float"
        },
        {
         "name": "spectral_features__spectralcontrast.skew.03",
         "rawType": "float64",
         "type": "float"
        },
        {
         "name": "spectral_features__spectralcontrast.skew.04",
         "rawType": "float64",
         "type": "float"
        },
        {
         "name": "spectral_features__spectralcontrast.skew.05",
         "rawType": "float64",
         "type": "float"
        },
        {
         "name": "spectral_features__spectralcontrast.skew.06",
         "rawType": "float64",
         "type": "float"
        },
        {
         "name": "spectral_features__spectralcontrast.skew.07",
         "rawType": "float64",
         "type": "float"
        },
        {
         "name": "spectral_features__spectralcontrast.std.01",
         "rawType": "float64",
         "type": "float"
        },
        {
         "name": "spectral_features__spectralcontrast.std.02",
         "rawType": "float64",
         "type": "float"
        },
        {
         "name": "spectral_features__spectralcontrast.std.03",
         "rawType": "float64",
         "type": "float"
        },
        {
         "name": "spectral_features__spectralcontrast.std.04",
         "rawType": "float64",
         "type": "float"
        },
        {
         "name": "spectral_features__spectralcontrast.std.05",
         "rawType": "float64",
         "type": "float"
        },
        {
         "name": "spectral_features__spectralcontrast.std.06",
         "rawType": "float64",
         "type": "float"
        },
        {
         "name": "spectral_features__spectralcontrast.std.07",
         "rawType": "float64",
         "type": "float"
        },
        {
         "name": "spectral_features__spectralrolloff.kurtosis.01",
         "rawType": "float64",
         "type": "float"
        },
        {
         "name": "spectral_features__spectralrolloff.max.01",
         "rawType": "float64",
         "type": "float"
        },
        {
         "name": "spectral_features__spectralrolloff.mean.01",
         "rawType": "float64",
         "type": "float"
        },
        {
         "name": "spectral_features__spectralrolloff.median.01",
         "rawType": "float64",
         "type": "float"
        },
        {
         "name": "spectral_features__spectralrolloff.min.01",
         "rawType": "float64",
         "type": "float"
        },
        {
         "name": "spectral_features__spectralrolloff.skew.01",
         "rawType": "float64",
         "type": "float"
        },
        {
         "name": "spectral_features__spectralrolloff.std.01",
         "rawType": "float64",
         "type": "float"
        },
        {
         "name": "tonnetz_features__tonnetz.kurtosis.01",
         "rawType": "float64",
         "type": "float"
        },
        {
         "name": "tonnetz_features__tonnetz.kurtosis.02",
         "rawType": "float64",
         "type": "float"
        },
        {
         "name": "tonnetz_features__tonnetz.kurtosis.03",
         "rawType": "float64",
         "type": "float"
        },
        {
         "name": "tonnetz_features__tonnetz.kurtosis.04",
         "rawType": "float64",
         "type": "float"
        },
        {
         "name": "tonnetz_features__tonnetz.kurtosis.05",
         "rawType": "float64",
         "type": "float"
        },
        {
         "name": "tonnetz_features__tonnetz.kurtosis.06",
         "rawType": "float64",
         "type": "float"
        },
        {
         "name": "tonnetz_features__tonnetz.max.01",
         "rawType": "float64",
         "type": "float"
        },
        {
         "name": "tonnetz_features__tonnetz.max.02",
         "rawType": "float64",
         "type": "float"
        },
        {
         "name": "tonnetz_features__tonnetz.max.03",
         "rawType": "float64",
         "type": "float"
        },
        {
         "name": "tonnetz_features__tonnetz.max.04",
         "rawType": "float64",
         "type": "float"
        },
        {
         "name": "tonnetz_features__tonnetz.max.05",
         "rawType": "float64",
         "type": "float"
        },
        {
         "name": "tonnetz_features__tonnetz.max.06",
         "rawType": "float64",
         "type": "float"
        },
        {
         "name": "tonnetz_features__tonnetz.mean.01",
         "rawType": "float64",
         "type": "float"
        },
        {
         "name": "tonnetz_features__tonnetz.mean.02",
         "rawType": "float64",
         "type": "float"
        },
        {
         "name": "tonnetz_features__tonnetz.mean.03",
         "rawType": "float64",
         "type": "float"
        },
        {
         "name": "tonnetz_features__tonnetz.mean.04",
         "rawType": "float64",
         "type": "float"
        },
        {
         "name": "tonnetz_features__tonnetz.mean.05",
         "rawType": "float64",
         "type": "float"
        },
        {
         "name": "tonnetz_features__tonnetz.mean.06",
         "rawType": "float64",
         "type": "float"
        },
        {
         "name": "tonnetz_features__tonnetz.median.01",
         "rawType": "float64",
         "type": "float"
        },
        {
         "name": "tonnetz_features__tonnetz.median.02",
         "rawType": "float64",
         "type": "float"
        },
        {
         "name": "tonnetz_features__tonnetz.median.03",
         "rawType": "float64",
         "type": "float"
        },
        {
         "name": "tonnetz_features__tonnetz.median.04",
         "rawType": "float64",
         "type": "float"
        },
        {
         "name": "tonnetz_features__tonnetz.median.05",
         "rawType": "float64",
         "type": "float"
        },
        {
         "name": "tonnetz_features__tonnetz.median.06",
         "rawType": "float64",
         "type": "float"
        },
        {
         "name": "tonnetz_features__tonnetz.min.01",
         "rawType": "float64",
         "type": "float"
        },
        {
         "name": "tonnetz_features__tonnetz.min.02",
         "rawType": "float64",
         "type": "float"
        },
        {
         "name": "tonnetz_features__tonnetz.min.03",
         "rawType": "float64",
         "type": "float"
        },
        {
         "name": "tonnetz_features__tonnetz.min.04",
         "rawType": "float64",
         "type": "float"
        },
        {
         "name": "tonnetz_features__tonnetz.min.05",
         "rawType": "float64",
         "type": "float"
        },
        {
         "name": "tonnetz_features__tonnetz.min.06",
         "rawType": "float64",
         "type": "float"
        },
        {
         "name": "tonnetz_features__tonnetz.skew.01",
         "rawType": "float64",
         "type": "float"
        },
        {
         "name": "tonnetz_features__tonnetz.skew.02",
         "rawType": "float64",
         "type": "float"
        },
        {
         "name": "tonnetz_features__tonnetz.skew.03",
         "rawType": "float64",
         "type": "float"
        },
        {
         "name": "tonnetz_features__tonnetz.skew.04",
         "rawType": "float64",
         "type": "float"
        },
        {
         "name": "tonnetz_features__tonnetz.skew.05",
         "rawType": "float64",
         "type": "float"
        },
        {
         "name": "tonnetz_features__tonnetz.skew.06",
         "rawType": "float64",
         "type": "float"
        },
        {
         "name": "tonnetz_features__tonnetz.std.01",
         "rawType": "float64",
         "type": "float"
        },
        {
         "name": "tonnetz_features__tonnetz.std.02",
         "rawType": "float64",
         "type": "float"
        },
        {
         "name": "tonnetz_features__tonnetz.std.03",
         "rawType": "float64",
         "type": "float"
        },
        {
         "name": "tonnetz_features__tonnetz.std.04",
         "rawType": "float64",
         "type": "float"
        },
        {
         "name": "tonnetz_features__tonnetz.std.05",
         "rawType": "float64",
         "type": "float"
        },
        {
         "name": "tonnetz_features__tonnetz.std.06",
         "rawType": "float64",
         "type": "float"
        },
        {
         "name": "zcr_features__zcr.kurtosis.01",
         "rawType": "float64",
         "type": "float"
        },
        {
         "name": "zcr_features__zcr.max.01",
         "rawType": "float64",
         "type": "float"
        },
        {
         "name": "zcr_features__zcr.mean.01",
         "rawType": "float64",
         "type": "float"
        },
        {
         "name": "zcr_features__zcr.median.01",
         "rawType": "float64",
         "type": "float"
        },
        {
         "name": "zcr_features__zcr.min.01",
         "rawType": "float64",
         "type": "float"
        },
        {
         "name": "zcr_features__zcr.skew.01",
         "rawType": "float64",
         "type": "float"
        },
        {
         "name": "zcr_features__zcr.std.01",
         "rawType": "float64",
         "type": "float"
        },
        {
         "name": "social_features__social_features.artist_discovery",
         "rawType": "float64",
         "type": "float"
        },
        {
         "name": "social_features__social_features.artist_familiarity",
         "rawType": "float64",
         "type": "float"
        },
        {
         "name": "social_features__social_features.artist_hotttnesss",
         "rawType": "float64",
         "type": "float"
        },
        {
         "name": "social_features__social_features.song_currency",
         "rawType": "float64",
         "type": "float"
        },
        {
         "name": "social_features__social_features.song_hotttnesss",
         "rawType": "float64",
         "type": "float"
        }
       ],
       "ref": "8cf4b2c3-132d-49d7-a037-1ad7dab1b905",
       "rows": [
        [
         "0",
         "28362",
         "0.6158452251",
         "0.7962809473",
         "0.3254782964",
         "0.887542021",
         "0.115252324",
         "0.0636959774",
         "115.151",
         "0.6403488254",
         "-0.85460883379",
         "-0.82492429018",
         "-0.049127746373",
         "1.209297657",
         "3.1686382294",
         "-1.0729171038",
         "0.84523046017",
         "0.61213856936",
         "-0.84708988667",
         "-0.63923478127",
         "-0.16075991094",
         "-0.56866139174",
         "0.76232796907",
         "0.63559561968",
         "0.54217672348",
         "0.66702884436",
         "0.67971819639",
         "0.57083553076",
         "0.674949646",
         "0.6882430315",
         "0.49815109372",
         "0.54676884413",
         "0.70400333405",
         "0.54187291861",
         "0.37539258599",
         "0.27731278539",
         "0.1941729337",
         "0.21368375421",
         "0.2022755444",
         "0.26541954279",
         "0.26599666476",
         "0.25561988354",
         "0.23215301335",
         "0.19957719743",
         "0.27093040943",
         "0.26088708639",
         "0.36242341995",
         "0.25579589605",
         "0.20910462737",
         "0.21048361063",
         "0.19538639486",
         "0.2562841773",
         "0.24537536502",
         "0.24286487699",
         "0.22150757909",
         "0.18225313723",
         "0.24939879775",
         "0.25272557139",
         "5.6042805227e-05",
         "0.0",
         "0.0",
         "0.0",
         "0.0",
         "0.0",
         "0.0",
         "0.0",
         "0.0",
         "0.0",
         "0.0",
         "0.0",
         "0.095951348543",
         "-0.037625975907",
         "0.19410669804",
         "0.89174509048",
         "1.3908110857",
         "-0.03260762617",
         "0.84527623653",
         "0.65409481525",
         "0.19377966225",
         "0.42684981227",
         "0.53025501966",
         "-0.22002917528",
         "0.18184953928",
         "0.13274715841",
         "0.11462618411",
         "0.13384371996",
         "0.11477234215",
         "0.12987540662",
         "0.12610675395",
         "0.13086044788",
         "0.12316127121",
         "0.12877370417",
         "0.15891548991",
         "0.11977674812",
         "-1.2295988798",
         "-0.84630489349",
         "-0.37933889031",
         "-0.56105285883",
         "-0.33023181558",
         "-1.2198485136",
         "-1.0016679764",
         "-0.80303311348",
         "-1.0881384611",
         "-0.90249162912",
         "-1.270070672",
         "-0.72202861309",
         "1.0",
         "1.0",
         "1.0",
         "1.0",
         "1.0",
         "1.0",
         "1.0",
         "1.0",
         "1.0",
         "1.0",
         "1.0",
         "1.0",
         "0.69050168991",
         "0.51158446074",
         "0.39806982875",
         "0.43696841598",
         "0.42376670241",
         "0.52185547352",
         "0.5084617734",
         "0.48962810636",
         "0.47009721398",
         "0.42820063233",
         "0.53317642212",
         "0.4781999886",
         "0.77831673622",
         "0.53086954355",
         "0.35597404838",
         "0.39498761296",
         "0.39730963111",
         "0.52647811174",
         "0.48350659013",
         "0.44675457478",
         "0.43003773689",
         "0.40547993779",
         "0.48290547729",
         "0.48988944292",
         "0.015299842693",
         "0.02529219538",
         "0.011015444063",
         "0.011370660737",
         "0.024267174304",
         "0.01918855682",
         "0.030140729621",
         "0.018595902249",
         "0.013111889362",
         "0.013297834434",
         "0.017071574926",
         "0.01809579879",
         "-0.50765919685",
         "-0.022193411365",
         "0.6084164381",
         "0.5674892664",
         "0.55410706997",
         "0.11373021454",
         "0.32271301746",
         "0.42941692472",
         "0.34036284685",
         "0.33896553516",
         "0.22493489087",
         "0.028344124556",
         "0.32127088308",
         "0.23637573421",
         "0.23231565952",
         "0.25424444675",
         "0.2364422828",
         "0.29056292772",
         "0.27297115326",
         "0.26814824343",
         "0.2803298831",
         "0.25830623507",
         "0.31180378795",
         "0.21951510012",
         "-1.1857222319",
         "-0.95755565166",
         "-1.3401565552",
         "-0.9958845973",
         "-0.97335994244",
         "-1.2255610228",
         "-0.82851666212",
         "-1.1237592697",
         "-1.0416866541",
         "-1.0892925262",
         "-1.2199929953",
         "-0.80814808607",
         "1.0",
         "1.0",
         "1.0",
         "1.0",
         "1.0",
         "1.0",
         "1.0",
         "1.0",
         "1.0",
         "1.0",
         "1.0",
         "1.0",
         "0.65538644791",
         "0.4816737771",
         "0.5164039135",
         "0.44514364004",
         "0.45115321875",
         "0.50943493843",
         "0.43070632219",
         "0.48957404494",
         "0.49839019775",
         "0.52182883024",
         "0.58431762457",
         "0.55464476347",
         "0.6742067337",
         "0.48184084892",
         "0.51554846764",
         "0.42237403989",
         "0.4287520051",
         "0.4928111136",
         "0.41111442447",
         "0.47877523303",
         "0.47676432133",
         "0.50917553902",
         "0.61282300949",
         "0.54139834642",
         "0.0060534267686",
         "0.0055035557598",
         "0.00241670385",
         "0.0048059276305",
         "0.0090617705137",
         "0.0047456645407",
         "0.0046757454984",
         "0.0045253187418",
         "0.0017748281825",
         "0.0021988106892",
         "0.0032356644515",
         "0.0057480800897",
         "-0.30742171407",
         "0.069545537233",
         "0.01646079123",
         "0.33520519733",
         "0.29505440593",
         "0.13514837623",
         "0.34055376053",
         "0.15711869299",
         "0.22560064495",
         "0.07780598104",
         "-0.16721352935",
         "0.061009012163",
         "0.29514458776",
         "0.25209331512",
         "0.3322121799",
         "0.29300299287",
         "0.27099737525",
         "0.30584809184",
         "0.26034900546",
         "0.288513273",
         "0.29476732016",
         "0.29291346669",
         "0.30593979359",
         "0.23881772161",
         "1.5190268755",
         "0.35691338778",
         "1.3395533562",
         "0.09223613888",
         "0.73900383711",
         "0.058945506811",
         "0.21090908349",
         "-0.42889878154",
         "-0.40931087732",
         "-0.6917706728",
         "0.0077001657337",
         "-0.24752892554",
         "-0.19789858162",
         "0.075895227492",
         "0.052304051816",
         "0.64259296656",
         "0.064903877676",
         "0.1705468446",
         "-0.14994165301",
         "-0.047919590026",
         "85.864181519",
         "218.76864624",
         "109.43035889",
         "132.33673096",
         "60.083908081",
         "49.773281097",
         "38.002376556",
         "34.525829315",
         "33.856445312",
         "35.830562592",
         "36.841251373",
         "29.518466949",
         "29.053979874",
         "30.678848267",
         "35.604179382",
         "34.952003479",
         "24.742256165",
         "28.921005249",
         "19.621793747",
         "23.116769791",
         "-238.32537842",
         "134.94628906",
         "32.357395172",
         "48.189880371",
         "14.008533478",
         "11.454668999",
         "-2.5052170753",
         "-5.8221697807",
         "-7.1643104553",
         "-6.4524884224",
         "0.45516076684",
         "-1.1149141788",
         "2.4266316891",
         "3.9905176163",
         "3.1807672977",
         "1.3389399052",
         "-1.1445428133",
         "-0.14482657611",
         "-1.740370512",
         "2.3068830967",
         "-244.55340576",
         "135.02062988",
         "37.482616425",
         "47.970367432",
         "14.981835365",
         "12.459308624",
         "-1.760543704",
         "-5.4603452682",
         "-7.2005262375",
         "-6.5388255119",
         "0.40268960595",
         "-1.0830755234",
         "2.1404769421",
         "3.5418281555",
         "3.0193641186",
         "1.3164377213",
         "-1.1490372419",
         "0.32324403524",
         "-1.3619894981",
         "2.4543015957",
         "-457.0809021",
         "-7.2830630415e-14",
         "-97.373138428",
         "-31.685659409",
         "-38.83140564",
         "-34.743251801",
         "-47.582859039",
         "-47.885810852",
         "-40.541400909",
         "-36.928707123",
         "-40.098892212",
         "-27.979320526",
         "-18.969093323",
         "-20.286083221",
         "-24.06760025",
         "-27.742963791",
         "-27.197374344",
         "-27.252962112",
         "-27.345029831",
         "-19.67137146",
         "0.93345147371",
         "-0.09716629982",
         "-1.0959324837",
         "0.04265235737",
         "-0.51732242107",
         "-0.39229699969",
         "-0.20965510607",
         "-0.12960332632",
         "0.014687949792",
         "0.080758005381",
         "0.17458587885",
         "-0.036334630102",
         "0.10051004589",
         "0.33891513944",
         "0.17522126436",
         "0.11153129488",
         "0.042578347027",
         "-0.24125024676",
         "-0.26010835171",
         "-0.13831007481",
         "92.687927246",
         "27.663934708",
         "39.762321472",
         "20.33130455",
         "15.628322601",
         "12.699660301",
         "12.067795753",
         "11.785160065",
         "11.709366798",
         "9.8568019867",
         "10.794828415",
         "7.7893915176",
         "7.1772241592",
         "6.7625031471",
         "6.5967755318",
         "7.2447595596",
         "6.4695658684",
         "6.1618590355",
         "6.3024325371",
         "5.6811208725",
         "2.85978508",
         "22.25935173",
         "4.2936415672",
         "2.6442074776",
         "2.0184197638e-05",
         "1.5303522348",
         "3.8816270828",
         "0.77781045437",
         "4408.2202148",
         "1606.1057129",
         "1599.7203369",
         "623.74206543",
         "0.32306340337",
         "375.06414795",
         "2.126739502",
         "5503.9594727",
         "904.13250732",
         "771.64385986",
         "128.8475647",
         "1.2058725357",
         "521.96887207",
         "2.2605397701",
         "0.63076007366",
         "0.26260316372",
         "0.86397737265",
         "1.9198192358",
         "0.24364235997",
         "-0.28820234537",
         "52.56583786",
         "41.71055603",
         "41.61649704",
         "31.78890419",
         "28.237783432",
         "26.284339905",
         "40.476081848",
         "15.822072983",
         "15.981608391",
         "17.512113571",
         "15.007725716",
         "14.949076653",
         "15.681303978",
         "28.414663315",
         "15.341930389",
         "15.705044746",
         "17.315282822",
         "14.57005024",
         "15.012114525",
         "15.377812386",
         "29.676961899",
         "4.076230526",
         "2.7807278633",
         "2.5708150864",
         "1.2151010036",
         "2.7671701908",
         "2.3507516384",
         "11.294116974",
         "0.90398705006",
         "0.39836415648",
         "0.31885716319",
         "0.32610553503",
         "-0.49589365721",
         "0.44317963719",
         "-0.53840649128",
         "4.6769843102",
         "4.477367878",
         "4.777089119",
         "4.1665344238",
         "3.2705926895",
         "2.265152216",
         "4.407304287",
         "-0.26191028953",
         "9948.3398438",
         "1641.2279053",
         "1248.9257812",
         "86.1328125",
         "0.75318711996",
         "1366.0107422",
         "0.32397159934",
         "-0.46214896441",
         "0.16857308149",
         "0.895611763",
         "0.71088433266",
         "-0.12980717421",
         "0.079680085182",
         "0.14216864109",
         "0.32470408082",
         "0.41545760632",
         "0.12099757791",
         "0.1185170114",
         "-0.038439180702",
         "0.036433104426",
         "-0.0015590249095",
         "0.026118427515",
         "0.0083821723238",
         "0.012908882461",
         "-0.038023430854",
         "0.036420963705",
         "-0.013922716491",
         "0.021937273443",
         "0.0041091335006",
         "0.010870867409",
         "-0.15470021963",
         "-0.068843908608",
         "-0.23188140988",
         "-0.33607169986",
         "-0.049576923251",
         "-0.070717379451",
         "-0.035369779915",
         "0.013638570905",
         "0.48530206084",
         "0.16415517032",
         "0.75370514393",
         "0.33240225911",
         "0.034285340458",
         "0.0344851017",
         "0.088310517371",
         "0.11302768439",
         "0.026699595153",
         "0.02660340257",
         "5.7601876259",
         "0.1572265625",
         "0.028092287481",
         "0.02001953125",
         "0.001953125",
         "2.3691663742",
         "0.029650302604",
         "0.262086911",
         "0.148808",
         "0.273797",
         "0.0",
         "0.0"
        ],
        [
         "1",
         "21945",
         "0.2201011998",
         "0.510654099",
         "0.9698878172",
         "0.8971399511",
         "0.0927625913",
         "0.1285984037",
         "187.946",
         "0.0398924488",
         "-0.28499469161",
         "0.18877759576",
         "-0.098973684013",
         "0.037896830589",
         "-0.16173872352",
         "0.88222253323",
         "-0.021479923278",
         "-0.53356927633",
         "0.45688527822",
         "-0.35207268596",
         "0.72852802277",
         "-0.026887873188",
         "0.61117625237",
         "0.59416127205",
         "0.69174832106",
         "0.47675809264",
         "0.551194489",
         "0.62240171432",
         "0.46677547693",
         "0.616147995",
         "0.46707767248",
         "0.61453849077",
         "0.62550485134",
         "0.59839111567",
         "0.28718537092",
         "0.30292832851",
         "0.32179427147",
         "0.28241547942",
         "0.28491345048",
         "0.23783019185",
         "0.22368597984",
         "0.25373911858",
         "0.25669819117",
         "0.31032505631",
         "0.23743772507",
         "0.23825804889",
         "0.27898487449",
         "0.28988721967",
         "0.30350604653",
         "0.2848585844",
         "0.28386712074",
         "0.24231441319",
         "0.23454886675",
         "0.25105011463",
         "0.25531953573",
         "0.29609638453",
         "0.23777148128",
         "0.23658502102",
         "0.0",
         "0.00044491371955",
         "0.0",
         "0.0078088631853",
         "0.0",
         "0.0",
         "0.0",
         "0.0019036234589",
         "0.0013656073716",
         "0.0093795219436",
         "0.0040702153929",
         "0.0",
         "-0.15817916393",
         "0.081922978163",
         "0.33825406432",
         "-0.35791656375",
         "-0.24132031202",
         "0.076139941812",
         "-0.22751122713",
         "0.0058013754897",
         "-0.22408220172",
         "0.1551387161",
         "-0.071390025318",
         "-0.080669395626",
         "0.11071068794",
         "0.087125748396",
         "0.12110082805",
         "0.087800823152",
         "0.10008339584",
         "0.090594217181",
         "0.081877306104",
         "0.1164791137",
         "0.08236079663",
         "0.10085196048",
         "0.081226177514",
         "0.10335568339",
         "-1.0531642437",
         "-0.44513893127",
         "-1.0899236202",
         "-0.79565435648",
         "-1.1419887543",
         "-0.72514092922",
         "-0.67489790916",
         "-1.1879651546",
         "-0.62044328451",
         "-1.1302812099",
         "-0.50536775589",
         "-0.6895827651",
         "1.0",
         "1.0",
         "1.0",
         "1.0",
         "1.0",
         "1.0",
         "1.0",
         "1.0",
         "1.0",
         "1.0",
         "1.0",
         "1.0",
         "0.63546258211",
         "0.63944548368",
         "0.6922339201",
         "0.61217284203",
         "0.63018995523",
         "0.55030316114",
         "0.52616626024",
         "0.59037917852",
         "0.57332384586",
         "0.66971296072",
         "0.53980505466",
         "0.54966562986",
         "0.63232302666",
         "0.6463958025",
         "0.7017364502",
         "0.60348582268",
         "0.62712484598",
         "0.54644846916",
         "0.51524579525",
         "0.57121169567",
         "0.57871592045",
         "0.66774266958",
         "0.53513771296",
         "0.54151338339",
         "0.027713546529",
         "0.026782477275",
         "0.0243256744",
         "0.041671544313",
         "0.052777402103",
         "0.032397788018",
         "0.039785467088",
         "0.044817872345",
         "0.036577995867",
         "0.075614571571",
         "0.056224424392",
         "0.040068466216",
         "-0.10279683769",
         "-0.16820459068",
         "-0.27078700066",
         "0.015333188698",
         "-0.063683614135",
         "0.15710292757",
         "0.25973334908",
         "0.08262642473",
         "-0.050911486149",
         "-0.13748149574",
         "0.21697238088",
         "0.15236312151",
         "0.25302129984",
         "0.19362005591",
         "0.24862605333",
         "0.21653299034",
         "0.25469985604",
         "0.22194238007",
         "0.21310459077",
         "0.26469215751",
         "0.20192714036",
         "0.24522890151",
         "0.2032815367",
         "0.22611303627",
         "-1.1299145222",
         "-0.29290655255",
         "-1.2270499468",
         "-0.29318782687",
         "-1.4165828228",
         "-0.098288163543",
         "0.54053533077",
         "-0.088385537267",
         "-0.14724181592",
         "-1.4508345127",
         "0.024722097442",
         "-0.12453958392",
         "1.0",
         "1.0",
         "1.0",
         "1.0",
         "1.0",
         "1.0",
         "1.0",
         "1.0",
         "1.0",
         "1.0",
         "1.0",
         "1.0",
         "0.48385837674",
         "0.41092252731",
         "0.48619201779",
         "0.40057018399",
         "0.53242045641",
         "0.36698943377",
         "0.30881410837",
         "0.36421105266",
         "0.38099998236",
         "0.57135027647",
         "0.35307443142",
         "0.39202481508",
         "0.42146191001",
         "0.37624943256",
         "0.4182497859",
         "0.36359500885",
         "0.4708096981",
         "0.305572927",
         "0.24898281693",
         "0.28275021911",
         "0.34895917773",
         "0.53737580776",
         "0.32456532121",
         "0.34449890256",
         "0.0",
         "0.0",
         "0.0",
         "0.0",
         "0.0",
         "0.0",
         "0.0",
         "0.0",
         "0.0",
         "0.0",
         "0.0",
         "0.0",
         "0.41279765964",
         "0.61040902138",
         "0.36489233375",
         "0.62830489874",
         "0.21408869326",
         "0.85933184624",
         "1.0501073599",
         "0.94670492411",
         "0.64316284657",
         "0.023734817281",
         "0.66542834044",
         "0.78359985352",
         "0.31279310584",
         "0.24253259599",
         "0.32355237007",
         "0.23828087747",
         "0.3298162818",
         "0.261400491",
         "0.22890026867",
         "0.2783087194",
         "0.23039866984",
         "0.3333748877",
         "0.20987869799",
         "0.25601732731",
         "2.8620800972",
         "3.0541107655",
         "1.8110347986",
         "0.23123390973",
         "0.35853460431",
         "-0.27737390995",
         "-0.067782752216",
         "-0.82760089636",
         "0.34679713845",
         "-0.32930088043",
         "-0.13261641562",
         "-0.25843113661",
         "0.1341586411",
         "0.38950389624",
         "0.35403075814",
         "0.34989818931",
         "0.28233402967",
         "0.34012022614",
         "-0.0093384543434",
         "-0.02189392969",
         "30.091123581",
         "233.39736938",
         "31.382541656",
         "92.753082275",
         "43.209281921",
         "61.616764069",
         "32.510684967",
         "48.170852661",
         "33.534156799",
         "44.832996368",
         "17.552396774",
         "29.877103806",
         "21.68132019",
         "32.474338531",
         "38.612018585",
         "31.03808403",
         "32.851169586",
         "26.627296448",
         "30.681175232",
         "21.380804062",
         "-151.36828613",
         "135.0308075",
         "-44.76556778",
         "37.565132141",
         "-18.475788116",
         "17.691663742",
         "-15.164103508",
         "5.6447777748",
         "-10.115225792",
         "7.8396139145",
         "-8.1358642578",
         "2.6805274487",
         "-5.3852891922",
         "0.88656377792",
         "-1.4788360596",
         "-1.4136086702",
         "2.4535286427",
         "-3.761623621",
         "2.4215121269",
         "-4.8801708221",
         "-121.69289398",
         "139.88150024",
         "-44.182769775",
         "40.739292145",
         "-19.51868248",
         "22.108943939",
         "-15.549133301",
         "7.8518557549",
         "-10.130767822",
         "9.0625963211",
         "-8.1502218246",
         "3.1145327091",
         "-5.2138748169",
         "0.4837153852",
         "-1.4327486753",
         "-1.4897192717",
         "2.2747766972",
         "-3.6448225975",
         "2.4856116772",
         "-5.0141544342",
         "-565.85235596",
         "-93.954650879",
         "-150.04475403",
         "-46.245632172",
         "-75.773391724",
         "-41.400596619",
         "-55.207263947",
         "-41.942863464",
         "-46.84602356",
         "-32.427883148",
         "-39.859233856",
         "-31.105688095",
         "-36.220302582",
         "-33.756271362",
         "-30.17266655",
         "-30.657953262",
         "-31.113140106",
         "-35.731071472",
         "-27.483983994",
         "-34.954662323",
         "-1.5887029171",
         "-1.519961834",
         "-0.72803622484",
         "-0.72167730331",
         "0.30390459299",
         "-0.62925332785",
         "0.22364935279",
         "-0.30527570844",
         "0.13616718352",
         "-0.36102071404",
         "-0.057600658387",
         "-0.24978291988",
         "-0.16486600041",
         "0.21524077654",
         "0.037212587893",
         "0.10701449215",
         "0.0087909922004",
         "-0.053616743535",
         "-0.10939604789",
         "0.035478211939",
         "116.64832306",
         "52.053443909",
         "25.703069687",
         "26.349489212",
         "13.984233856",
         "18.552019119",
         "12.48900795",
         "17.726085663",
         "9.8438282013",
         "10.983290672",
         "7.0751171112",
         "9.1367778778",
         "7.2088699341",
         "7.143509388",
         "6.701798439",
         "7.1327223778",
         "7.7966532707",
         "7.0823864937",
         "7.218890667",
         "7.2204794884",
         "-0.79524469376",
         "9.0767087936",
         "3.4526538849",
         "3.6316585541",
         "0.0",
         "-0.0069992425852",
         "1.910271883",
         "0.29873472452",
         "4358.3378906",
         "1654.1409912",
         "1669.5635986",
         "0.0",
         "0.45094168186",
         "501.91482544",
         "10.956219673",
         "10232.725586",
         "1718.4404297",
         "1525.0861816",
         "0.0",
         "2.6456024647",
         "958.36114502",
         "1.285120368",
         "0.71220737696",
         "0.5906252265",
         "0.26665329933",
         "1.0631973743",
         "3.9017169476",
         "1.3032296896",
         "57.05676651",
         "39.070343018",
         "36.964614868",
         "34.533538818",
         "37.17073822",
         "52.628986359",
         "54.634395599",
         "16.81227684",
         "13.96836853",
         "16.36507988",
         "15.73617363",
         "16.885149002",
         "20.525180817",
         "39.37260437",
         "15.907026291",
         "13.621630669",
         "16.057065964",
         "15.557757378",
         "16.455703735",
         "18.743850708",
         "40.479824066",
         "4.639122963",
         "1.7536604404",
         "5.5238456726",
         "7.3708958626",
         "9.2337856293",
         "9.5547399521",
         "9.5547399521",
         "0.90968894958",
         "0.5996991992",
         "0.56490504742",
         "0.41908982396",
         "0.8004270792",
         "1.8254152536",
         "-0.95624136925",
         "5.5881681442",
         "3.712141037",
         "3.8398678303",
         "2.8600142002",
         "3.1700339317",
         "6.3015680313",
         "7.3804841042",
         "2.1475481987",
         "11025.0",
         "3436.8898926",
         "3294.5800781",
         "0.0",
         "1.1492469311",
         "1652.5474854",
         "-0.03462978825",
         "0.62228512764",
         "0.39103361964",
         "1.7848923206",
         "-0.13814131916",
         "1.8104103804",
         "0.12388849258",
         "0.089996501803",
         "0.2908822",
         "0.25260916352",
         "0.068195402622",
         "0.055401939899",
         "0.031181562692",
         "0.0087072718889",
         "-0.025281136855",
         "0.012518337928",
         "0.0028259730898",
         "0.0056525235996",
         "0.032118603587",
         "0.0093363244087",
         "-0.018034003675",
         "0.015250911936",
         "0.0044324537739",
         "0.0062143974937",
         "-0.064857929945",
         "-0.11699343473",
         "-0.27450969815",
         "-0.34134620428",
         "-0.071527145803",
         "-0.085939340293",
         "-0.11020023376",
         "-0.32826569676",
         "-0.11787754297",
         "-0.66173136234",
         "-0.30965679884",
         "-0.60968512297",
         "0.028547622263",
         "0.026395797729",
         "0.07793123275",
         "0.076165661216",
         "0.0218355041",
         "0.01582457684",
         "30.655155182",
         "0.99755859375",
         "0.091346345842",
         "0.07080078125",
         "0.0",
         "4.5496401787",
         "0.080030091107",
         "0.2725427426",
         "0.100723",
         "0.28472",
         "0.0",
         "0.0"
        ],
        [
         "2",
         "12926",
         "0.9950253134",
         "0.3665848581",
         "0.0095104844",
         "3.11e-08",
         "0.126372846",
         "0.0473083347",
         "110.612",
         "0.3751905856",
         "-0.65862238407",
         "-0.52565187216",
         "-0.7472987175",
         "-0.75171792507",
         "-0.53162586689",
         "-0.3339356184",
         "-0.79803872108",
         "-1.2048858404",
         "-1.1706471443",
         "-1.0890071392",
         "-1.1063922644",
         "0.24013014138",
         "0.5778504014",
         "0.66136091948",
         "0.69571465254",
         "0.66655123234",
         "0.63113993406",
         "0.62430620193",
         "0.68020272255",
         "0.59024119377",
         "0.66725647449",
         "0.66976010799",
         "0.56079894304",
         "0.67889606953",
         "0.19761945307",
         "0.23759931326",
         "0.26091116667",
         "0.2653888762",
         "0.20719370246",
         "0.22530740499",
         "0.25272509456",
         "0.23832894862",
         "0.2790812254",
         "0.26417517662",
         "0.20857384801",
         "0.158825472",
         "0.17331315577",
         "0.231436342",
         "0.24647551775",
         "0.24027165771",
         "0.18997187912",
         "0.2149631083",
         "0.22332982719",
         "0.24052061141",
         "0.25036382675",
         "0.24370923638",
         "0.19027420878",
         "0.061557192355",
         "0.0",
         "0.0",
         "0.0",
         "0.0",
         "0.0",
         "0.0",
         "0.0",
         "0.0",
         "0.0",
         "0.0",
         "0.0",
         "0.0",
         "0.59664785862",
         "0.32221537828",
         "0.30633273721",
         "0.35786470771",
         "0.57107722759",
         "0.40560698509",
         "0.40932968259",
         "-0.022582838312",
         "0.25146663189",
         "0.25505107641",
         "0.29348298907",
         "1.2087801695",
         "0.1552221626",
         "0.15399318933",
         "0.17194746435",
         "0.1694445312",
         "0.15740175545",
         "0.13693909347",
         "0.17615383863",
         "0.14636452496",
         "0.19181658328",
         "0.18396760523",
         "0.15272386372",
         "0.19797131419",
         "0.1258828938",
         "-0.45029610395",
         "-0.9068556428",
         "-0.85508733988",
         "-0.092308998108",
         "-0.17206309736",
         "-1.000087738",
         "-0.52080792189",
         "-1.2812982798",
         "-1.0647448301",
         "0.10562796891",
         "0.1293797791",
         "1.0",
         "1.0",
         "1.0",
         "1.0",
         "1.0",
         "1.0",
         "1.0",
         "1.0",
         "1.0",
         "1.0",
         "1.0",
         "1.0",
         "0.36882323027",
         "0.42115724087",
         "0.46073484421",
         "0.46433642507",
         "0.38639655709",
         "0.40230497718",
         "0.46042376757",
         "0.42082181573",
         "0.49798694253",
         "0.47184213996",
         "0.37621361017",
         "0.33865058422",
         "0.30157828331",
         "0.35012033582",
         "0.39520224929",
         "0.38368067145",
         "0.31541100144",
         "0.35218155384",
         "0.36260399222",
         "0.39762362838",
         "0.41921558976",
         "0.41051882505",
         "0.32135900855",
         "0.20314759016",
         "0.021122034639",
         "0.021040113643",
         "0.036027859896",
         "0.0324678123",
         "0.026795236394",
         "0.031242886558",
         "0.014674064703",
         "0.022566741332",
         "0.020907314494",
         "0.026254815981",
         "0.026027528569",
         "0.021302498877",
         "0.93427526951",
         "0.7421438694",
         "0.52796846628",
         "0.63066154718",
         "0.90793538094",
         "0.74880737066",
         "0.60975652933",
         "0.53834682703",
         "0.39706864953",
         "0.46420252323",
         "0.85841804743",
         "1.2489897013",
         "0.23585879803",
         "0.2726573348",
         "0.28492641449",
         "0.28986412287",
         "0.25414440036",
         "0.24162405729",
         "0.31275755167",
         "0.24602052569",
         "0.32434815168",
         "0.30124497414",
         "0.23216053843",
         "0.30648678541",
         "0.72140699625",
         "-0.37835243344",
         "1.3128290176",
         "1.038647294",
         "1.0792878866",
         "0.41020467877",
         "-0.16377069056",
         "-0.17632590234",
         "-1.3839443922",
         "-0.61761116982",
         "1.464807868",
         "-0.19909845293",
         "1.0",
         "1.0",
         "1.0",
         "1.0",
         "1.0",
         "1.0",
         "1.0",
         "1.0",
         "1.0",
         "1.0",
         "1.0",
         "1.0",
         "0.24971024692",
         "0.2916636169",
         "0.21988223493",
         "0.23701950908",
         "0.21893905103",
         "0.23569494486",
         "0.27800887823",
         "0.28676953912",
         "0.41595610976",
         "0.34160640836",
         "0.23048870265",
         "0.27923154831",
         "0.1345217675",
         "0.10449613631",
         "0.090932630002",
         "0.097729213536",
         "0.088514305651",
         "0.068552985787",
         "0.09330124408",
         "0.19216325879",
         "0.29316806793",
         "0.20296394825",
         "0.13356433809",
         "0.086294047534",
         "0.00041605325532",
         "0.0003273258917",
         "0.00041068825522",
         "0.00019121667719",
         "9.9112170574e-05",
         "0.00010678773833",
         "5.3897689213e-05",
         "0.00022427491785",
         "0.00020101816335",
         "0.0001368617086",
         "0.00039149718941",
         "0.00068186694989",
         "1.2776648998",
         "1.096612215",
         "1.5091381073",
         "1.5010808706",
         "1.4483333826",
         "1.3474575281",
         "1.1716567278",
         "0.96829980612",
         "0.47471398115",
         "0.88752019405",
         "1.4630299807",
         "1.2062027454",
         "0.27701324224",
         "0.35504555702",
         "0.2750659585",
         "0.29862350225",
         "0.27144414186",
         "0.31214177608",
         "0.34514823556",
         "0.2923438549",
         "0.38549467921",
         "0.34157466888",
         "0.25408926606",
         "0.3611728549",
         "0.36391070485",
         "1.1663912535",
         "-0.47291308641",
         "0.89475435019",
         "0.585103333",
         "0.08048081398",
         "-0.008561543189",
         "0.25703981519",
         "0.54488843679",
         "-0.36223563552",
         "0.18233551085",
         "0.12182379514",
         "0.44198942184",
         "1.3934179544",
         "1.672344327",
         "0.27568420768",
         "0.028351472691",
         "-0.041977588087",
         "1.0538508892",
         "-0.073664046824",
         "-280.60317993",
         "195.72923279",
         "82.050498962",
         "99.676216125",
         "72.444526672",
         "64.414215088",
         "27.930784225",
         "63.614406586",
         "40.412166595",
         "32.317928314",
         "32.741134644",
         "45.741348267",
         "35.684268951",
         "41.571792603",
         "59.361801147",
         "50.416027069",
         "52.118900299",
         "59.922088623",
         "50.350627899",
         "49.330524445",
         "-438.19137573",
         "132.19477844",
         "15.66938591",
         "18.329608917",
         "15.291546822",
         "-1.820509553",
         "-14.306856155",
         "10.91245842",
         "-3.3102440834",
         "-16.111940384",
         "1.2710633278",
         "-3.1151943207",
         "-12.838180542",
         "-6.9367866516",
         "1.7879713774",
         "-1.4385309219",
         "-2.5197381973",
         "2.1255464554",
         "0.51005023718",
         "3.2079968452",
         "-430.53146362",
         "141.7901001",
         "16.039293289",
         "17.858020782",
         "16.823507309",
         "-1.7158495188",
         "-12.123510361",
         "9.8908519745",
         "-3.2068200111",
         "-15.943813324",
         "1.51760602",
         "-2.2922182083",
         "-13.716308594",
         "-7.7639408112",
         "0.0042019961402",
         "-1.8464055061",
         "-3.4758508205",
         "0.032015133649",
         "1.2762093544",
         "2.8024902344",
         "-623.28198242",
         "-8.068312645",
         "-69.457046509",
         "-40.400497437",
         "-67.998519897",
         "-53.770862579",
         "-78.200881958",
         "-36.169719696",
         "-44.41576767",
         "-62.774700165",
         "-38.394447327",
         "-44.809711456",
         "-48.432617188",
         "-45.024806976",
         "-30.385866165",
         "-41.564086914",
         "-58.379993439",
         "-38.766860962",
         "-66.045341492",
         "-43.756439209",
         "-0.54916083813",
         "-1.2103999853",
         "-0.090320304036",
         "0.2806084156",
         "-0.44902738929",
         "-0.047934316099",
         "-0.45528712869",
         "0.49213716388",
         "0.037044145167",
         "-0.077973991632",
         "-0.10533862561",
         "-0.052694875747",
         "0.33308124542",
         "0.5949318409",
         "1.0383913517",
         "0.41005218029",
         "0.15208391845",
         "0.4742564261",
         "-0.44368135929",
         "0.086155757308",
         "63.05619812",
         "36.574546814",
         "27.940698624",
         "16.95369339",
         "20.998212814",
         "16.032297134",
         "17.463237762",
         "14.529415131",
         "10.706636429",
         "15.121391296",
         "10.232764244",
         "12.047974586",
         "11.013483047",
         "11.079813957",
         "12.851781845",
         "13.597900391",
         "15.287093163",
         "15.830548286",
         "14.478023529",
         "14.134913445",
         "6.7900676727",
         "3.9224228859",
         "0.52271264791",
         "0.41106879711",
         "4.6227050916e-06",
         "2.2424032688",
         "0.46991252899",
         "1.5730853081",
         "3419.5761719",
         "1176.0941162",
         "1063.7037354",
         "503.4241333",
         "1.3937395811",
         "425.20233154",
         "10.94047451",
         "5509.8413086",
         "889.36975098",
         "740.13037109",
         "252.74372864",
         "3.0237386227",
         "585.58209229",
         "2.4099638462",
         "-0.021865561604",
         "-0.20300444961",
         "-0.26536792517",
         "-1.0171223879",
         "-0.34496515989",
         "-1.1265939474",
         "47.097606659",
         "46.212665558",
         "47.50868988",
         "42.6590271",
         "56.080886841",
         "40.551082611",
         "44.88073349",
         "16.777755737",
         "21.673416138",
         "23.994182587",
         "21.972177505",
         "31.90776062",
         "24.2280159",
         "22.897878647",
         "16.326087952",
         "21.683530807",
         "24.184736252",
         "21.731309891",
         "33.125301361",
         "23.808320999",
         "23.416416168",
         "6.3655109406",
         "2.6667380333",
         "4.1325392723",
         "4.3751735687",
         "6.9486613274",
         "11.982767105",
         "11.113180161",
         "0.93702811003",
         "0.043143577874",
         "-0.084052450955",
         "0.18115857244",
         "-0.22584106028",
         "0.36309546232",
         "0.11261983961",
         "4.3858761787",
         "5.5769844055",
         "5.9890003204",
         "5.3690834045",
         "10.185266495",
         "4.779250145",
         "7.5804262161",
         "4.0959033966",
         "9679.1748047",
         "1669.5241699",
         "1475.0244141",
         "161.49902344",
         "2.0044620037",
         "1295.2890625",
         "0.0030406783335",
         "1.1446729898",
         "-0.31192693114",
         "-0.56304681301",
         "-0.00073730986333",
         "-0.59713131189",
         "0.08676353097",
         "0.1456194818",
         "0.44451156259",
         "0.37321227789",
         "0.080001361668",
         "0.076665058732",
         "-0.018505979329",
         "-0.0019768103957",
         "-0.021049194038",
         "-0.013646673411",
         "-0.0051954444498",
         "0.012952228077",
         "-0.018893716857",
         "-0.0042861248367",
         "-0.027044970542",
         "-0.00013438216411",
         "-0.0046144775115",
         "0.013012612239",
         "-0.091113992035",
         "-0.10718218237",
         "-0.34938529134",
         "-0.38018867373",
         "-0.074884168804",
         "-0.053364578635",
         "0.19306914508",
         "0.46901530027",
         "0.25501018763",
         "-0.14376497269",
         "-0.023606885225",
         "-0.030398016796",
         "0.028727997094",
         "0.036371465772",
         "0.15317347646",
         "0.14028015733",
         "0.02539919503",
         "0.026039229706",
         "27.66028595",
         "0.4345703125",
         "0.042644292116",
         "0.03515625",
         "0.0009765625",
         "4.5883431435",
         "0.039719969034",
         "0.1182696896",
         "0.163611",
         "0.123554",
         "0.00025",
         "0.03855"
        ],
        [
         "3",
         "21232",
         "0.4315742842",
         "0.416715362",
         "0.6650644279",
         "0.140144683",
         "0.1497724911",
         "0.0335382193",
         "161.977",
         "0.2751697759",
         "-0.60387027264",
         "-0.86142975092",
         "0.089875735343",
         "-0.75979214907",
         "-0.81649774313",
         "-0.34543380141",
         "0.10227824748",
         "-0.2274774313",
         "0.0074162567034",
         "-0.70502209663",
         "-0.5586117506",
         "-0.91902750731",
         "0.63514608145",
         "0.69414156675",
         "0.70882683992",
         "0.56843078136",
         "0.6986734271",
         "0.53841090202",
         "0.71491277218",
         "0.60629630089",
         "0.71670013666",
         "0.69268023968",
         "0.54309785366",
         "0.70117664337",
         "0.24903272092",
         "0.22878217697",
         "0.19779019058",
         "0.25077736378",
         "0.31960481405",
         "0.27465429902",
         "0.2202244103",
         "0.20556840301",
         "0.25341901183",
         "0.26421752572",
         "0.24878162146",
         "0.26788413525",
         "0.24097160995",
         "0.20621798933",
         "0.18408934772",
         "0.24071255326",
         "0.32537546754",
         "0.26896765828",
         "0.20583994687",
         "0.20699305832",
         "0.23142562807",
         "0.22910520434",
         "0.24095965922",
         "0.24284006655",
         "0.0",
         "0.0",
         "0.0",
         "0.0",
         "0.0",
         "0.0",
         "0.0",
         "0.0",
         "0.0",
         "0.0",
         "0.0",
         "0.0",
         "0.054589230567",
         "0.455216676",
         "0.71728986502",
         "-0.17108359933",
         "-0.11280477792",
         "-0.31951165199",
         "0.66922205687",
         "0.33081251383",
         "0.55868941545",
         "0.46143493056",
         "-0.015019432642",
         "0.20029081404",
         "0.1314098835",
         "0.16919642687",
         "0.14583295584",
         "0.1310890466",
         "0.17298944294",
         "0.11117493361",
         "0.13804328442",
         "0.11736952513",
         "0.14403821528",
         "0.16664537787",
         "0.11829138547",
         "0.16009564698",
         "-0.57323390245",
         "-0.9936106801",
         "-0.16747185588",
         "-0.54723930359",
         "-1.4081947803",
         "-0.41085767746",
         "-0.70759552717",
         "-0.37540844083",
         "-0.69569182396",
         "-1.1375981569",
         "-0.50291901827",
         "-1.256030798",
         "1.0",
         "1.0",
         "1.0",
         "1.0",
         "1.0",
         "1.0",
         "1.0",
         "1.0",
         "1.0",
         "1.0",
         "1.0",
         "1.0",
         "0.49093031883",
         "0.48330268264",
         "0.42793425918",
         "0.48276662827",
         "0.61779725552",
         "0.51228421926",
         "0.46434345841",
         "0.42363539338",
         "0.49603843689",
         "0.52787488699",
         "0.48127704859",
         "0.53484874964",
         "0.48892349005",
         "0.42450454831",
         "0.3851608634",
         "0.50081980228",
         "0.61554634571",
         "0.52918720245",
         "0.39637327194",
         "0.40473735332",
         "0.4706646204",
         "0.46973145008",
         "0.4930254221",
         "0.47837424278",
         "0.031102871522",
         "0.027348548174",
         "0.02626346238",
         "0.032376646996",
         "0.028301289305",
         "0.027460617945",
         "0.029794685543",
         "0.030431564897",
         "0.036101486534",
         "0.027673885226",
         "0.020807195455",
         "0.031318183988",
         "0.2772167623",
         "0.48386701941",
         "0.73845565319",
         "0.17879630625",
         "-0.12191296369",
         "-0.0076492889784",
         "0.64533942938",
         "0.45226085186",
         "0.43734994531",
         "0.39413616061",
         "0.11456516385",
         "0.29908624291",
         "0.23654006422",
         "0.29170954227",
         "0.24707125127",
         "0.2205440104",
         "0.31244662404",
         "0.20689803362",
         "0.27761504054",
         "0.2129201293",
         "0.2500782907",
         "0.2923206389",
         "0.2076382339",
         "0.2972368896",
         "0.59720414877",
         "0.78723621368",
         "2.2041227818",
         "0.28302660584",
         "-1.4200873375",
         "1.0426412821",
         "-0.31906530261",
         "2.0495398045",
         "0.39623221755",
         "-0.48911353946",
         "0.120028615",
         "-1.5444797277",
         "1.0",
         "1.0",
         "1.0",
         "1.0",
         "1.0",
         "1.0",
         "1.0",
         "1.0",
         "1.0",
         "1.0",
         "1.0",
         "1.0",
         "0.31387993693",
         "0.29830574989",
         "0.24289757013",
         "0.32953873277",
         "0.48038157821",
         "0.30900350213",
         "0.3389416039",
         "0.23609237373",
         "0.315995574",
         "0.35495594144",
         "0.34819453955",
         "0.50321233273",
         "0.24651676416",
         "0.19682864845",
         "0.15972650051",
         "0.26541849971",
         "0.37293940783",
         "0.26495942473",
         "0.19749222696",
         "0.17334404588",
         "0.21640947461",
         "0.21591554582",
         "0.2897849381",
         "0.4138725996",
         "0.0",
         "0.0",
         "0.0",
         "0.0",
         "0.0",
         "0.0",
         "0.0",
         "0.0",
         "0.0",
         "0.0",
         "0.0",
         "0.0",
         "1.1271620989",
         "1.3308646679",
         "1.5703155994",
         "0.99587613344",
         "0.38022151589",
         "1.1260442734",
         "1.0368205309",
         "1.5109928846",
         "1.1871080399",
         "0.97222357988",
         "0.90825176239",
         "0.25642365217",
         "0.2412288785",
         "0.28164538741",
         "0.22310973704",
         "0.25317412615",
         "0.35816529393",
         "0.21778170764",
         "0.32487183809",
         "0.20970495045",
         "0.28189206123",
         "0.3289668262",
         "0.24646139145",
         "0.36659657955",
         "16.868293762",
         "2.9281520844",
         "0.36392721534",
         "3.505865097",
         "-0.1635594368",
         "1.0777503252",
         "0.24533878267",
         "0.27976721525",
         "-0.22491112351",
         "0.16656769812",
         "0.42175239325",
         "0.60472267866",
         "0.38408866525",
         "0.46523299813",
         "0.0097553199157",
         "-0.07002004981",
         "-0.12954631448",
         "0.34884434938",
         "0.25569406152",
         "0.4945435524",
         "28.963047028",
         "235.61758423",
         "37.687427521",
         "126.19112396",
         "42.726558685",
         "76.401412964",
         "30.237930298",
         "47.549995422",
         "26.809047699",
         "37.784439087",
         "42.528511047",
         "31.980165482",
         "24.202997208",
         "24.040220261",
         "27.173318863",
         "21.875799179",
         "28.115924835",
         "28.305830002",
         "40.771068573",
         "34.027023315",
         "-91.273216248",
         "147.20936584",
         "-31.165361404",
         "56.361663818",
         "-15.278027534",
         "24.998086929",
         "-9.7038984299",
         "11.420492172",
         "-5.1486616135",
         "1.3501255512",
         "1.0591472387",
         "4.7332420349",
         "-1.0692183971",
         "-1.9662314653",
         "-0.099217288196",
         "-2.1238741875",
         "2.2773759365",
         "-1.1896005869",
         "1.3320326805",
         "-1.9309216738",
         "-79.765739441",
         "148.40304565",
         "-32.198974609",
         "57.423015594",
         "-16.237913132",
         "25.016616821",
         "-10.155853271",
         "12.26171875",
         "-5.208589077",
         "1.8884937763",
         "0.33404707909",
         "5.0595049858",
         "-0.91779255867",
         "-1.9943964481",
         "-0.11292669922",
         "-2.0142707825",
         "1.9144669771",
         "-1.9692044258",
         "0.053655445576",
         "-2.510632515",
         "-511.89926147",
         "-3.6415315208e-14",
         "-95.238739014",
         "-50.539020538",
         "-59.766021729",
         "-29.838878632",
         "-52.177516937",
         "-32.171138763",
         "-34.596893311",
         "-40.197410583",
         "-37.166648865",
         "-36.182888031",
         "-29.633863449",
         "-30.506904602",
         "-27.345851898",
         "-26.202842712",
         "-20.695919037",
         "-31.270042419",
         "-28.135622025",
         "-28.289791107",
         "-3.3752100468",
         "-0.87637943029",
         "0.40408948064",
         "-0.9959128499",
         "0.34949612617",
         "-0.021363491192",
         "0.23455923796",
         "-0.35643154383",
         "0.068127334118",
         "-0.35194313526",
         "0.33957597613",
         "-0.33698517084",
         "-0.14293396473",
         "-0.031706850976",
         "-0.023168046027",
         "-0.081784062088",
         "0.2278457731",
         "0.46504190564",
         "0.62400060892",
         "0.51634830236",
         "67.292640686",
         "31.414453506",
         "17.918848038",
         "17.463106155",
         "16.490888596",
         "11.678657532",
         "9.9455499649",
         "10.172394753",
         "9.1137504578",
         "10.086735725",
         "9.7426872253",
         "7.9824800491",
         "6.5616154671",
         "6.998664856",
         "6.5239348412",
         "6.3704128265",
         "7.1698713303",
         "8.0552530289",
         "8.648859024",
         "8.0179710388",
         "3.1039390564",
         "14.215056419",
         "7.1034126282",
         "7.360294342",
         "0.0",
         "-1.158316493",
         "1.799939394",
         "1.6595900059",
         "3505.8933105",
         "1576.0056152",
         "1581.4346924",
         "0.0",
         "0.47420495749",
         "338.34735107",
         "4.5107092857",
         "5778.4418945",
         "1345.4086914",
         "1299.3613281",
         "0.0",
         "1.2029000521",
         "503.59643555",
         "2.3866157532",
         "0.47159782052",
         "0.052939198911",
         "-0.36131793261",
         "0.21519525349",
         "0.53938513994",
         "0.97463333607",
         "60.593963623",
         "40.542873383",
         "56.776191711",
         "33.210414886",
         "33.212547302",
         "38.146522522",
         "55.291885376",
         "18.038049698",
         "17.492856979",
         "19.442789078",
         "17.2382164",
         "17.710712433",
         "18.322990417",
         "37.235900879",
         "17.32034874",
         "17.351314545",
         "19.31835556",
         "16.97077179",
         "17.388467789",
         "18.122180939",
         "38.87330246",
         "2.2266933918",
         "5.214173317",
         "5.749320507",
         "7.6742978096",
         "8.6769123077",
         "9.7538576126",
         "11.405963898",
         "1.078417182",
         "0.35394152999",
         "0.23325054348",
         "0.32494604588",
         "0.53894233704",
         "0.52360504866",
         "-1.0903257132",
         "5.1224269867",
         "4.2472448349",
         "4.8433303833",
         "3.8014948368",
         "3.2234475613",
         "2.605057478",
         "7.0786647797",
         "1.0298582315",
         "9603.8085938",
         "2907.4829102",
         "2939.2822266",
         "0.0",
         "0.4410866797",
         "1107.1330566",
         "-0.24387513101",
         "-0.042726833373",
         "-0.51451611519",
         "0.041229903698",
         "-0.10032036901",
         "0.16156195104",
         "0.092151381075",
         "0.087997965515",
         "0.32368305326",
         "0.38046365976",
         "0.064936347306",
         "0.064845554531",
         "0.0031880072784",
         "-0.015962740406",
         "-0.015412359498",
         "0.053654696792",
         "0.0011425064877",
         "-0.0024530601222",
         "0.0034039027523",
         "-0.016380563378",
         "-0.01301326137",
         "0.074973188341",
         "0.0030268547125",
         "-0.0016187651781",
         "-0.10196120292",
         "-0.13250121474",
         "-0.32541048527",
         "-0.45509621501",
         "-0.074918732047",
         "-0.097787454724",
         "-0.079425297678",
         "0.06669934094",
         "-0.037167239934",
         "-0.5515987277",
         "-0.28579705954",
         "-0.15353929996",
         "0.030503002927",
         "0.030823264271",
         "0.11257845163",
         "0.12443104386",
         "0.021930508316",
         "0.02245878242",
         "9.0374364853",
         "0.3359375",
         "0.055437728763",
         "0.05029296875",
         "0.0",
         "2.032553196",
         "0.03192955628",
         "0.1790758593",
         "0.035024",
         "0.187077",
         "0.0001666667",
         "0.041556"
        ],
        [
         "4",
         "17132",
         "0.8005964103",
         "0.5545034608",
         "0.5995602812",
         "0.1740651567",
         "0.4304484667",
         "0.0970778108",
         "96.597",
         "0.2242754663",
         "-0.060540165752",
         "-0.34308701754",
         "-0.19154421985",
         "0.28094762564",
         "-0.38948887587",
         "0.043554652482",
         "2.0282862186",
         "0.7300825119",
         "0.70782250166",
         "0.1239887774",
         "1.5269953012",
         "0.30402854085",
         "0.63147073984",
         "0.55404162407",
         "0.6130219698",
         "0.64178401232",
         "0.64826118946",
         "0.64248877764",
         "0.63246959448",
         "0.63906186819",
         "0.63907450438",
         "0.68035376072",
         "0.64638143778",
         "0.62954807281",
         "0.19690826535",
         "0.19808134437",
         "0.20018588006",
         "0.27382600307",
         "0.34627315402",
         "0.30262348056",
         "0.26279088855",
         "0.2801014781",
         "0.28351199627",
         "0.30771273375",
         "0.27736899257",
         "0.2007407397",
         "0.18517588079",
         "0.20078359544",
         "0.18510960042",
         "0.27104985714",
         "0.34219136834",
         "0.28414571285",
         "0.2588224411",
         "0.27934512496",
         "0.27909129858",
         "0.31149584055",
         "0.24980758131",
         "0.19180773199",
         "0.0",
         "0.0",
         "0.0",
         "0.0",
         "0.0",
         "0.0",
         "0.0",
         "0.0",
         "0.0054814098403",
         "0.0",
         "0.012058918364",
         "0.0",
         "0.64269560575",
         "0.24063579738",
         "0.48910537362",
         "-0.34347173572",
         "-0.052950166166",
         "0.25915256143",
         "0.0056987446733",
         "-0.43642550707",
         "-0.016924105585",
         "0.24900741875",
         "1.0508025885",
         "0.57986778021",
         "0.12868028879",
         "0.11778429151",
         "0.12227080017",
         "0.10607481003",
         "0.11569328606",
         "0.10825790465",
         "0.10274127871",
         "0.11047646403",
         "0.087543681264",
         "0.13392029703",
         "0.10778787732",
         "0.11798832566",
         "-0.32619327307",
         "-0.39017814398",
         "-0.61285328865",
         "-0.72576767206",
         "-1.0743612051",
         "-0.66223931313",
         "-0.45222380757",
         "-0.86546713114",
         "-0.74531793594",
         "-1.1048431396",
         "-0.63796305656",
         "-0.30006232858",
         "1.0",
         "1.0",
         "1.0",
         "1.0",
         "1.0",
         "1.0",
         "1.0",
         "1.0",
         "1.0",
         "1.0",
         "1.0",
         "1.0",
         "0.45941266418",
         "0.45188456774",
         "0.47090730071",
         "0.56047183275",
         "0.69590884447",
         "0.59480845928",
         "0.54836493731",
         "0.58569097519",
         "0.56728374958",
         "0.62173163891",
         "0.55712485313",
         "0.45738810301",
         "0.39712810516",
         "0.41252359748",
         "0.40735012293",
         "0.55447930098",
         "0.70986324549",
         "0.60906141996",
         "0.53883248568",
         "0.57933312654",
         "0.55712324381",
         "0.60659849644",
         "0.53665822744",
         "0.4179558754",
         "0.0",
         "0.0",
         "0.0",
         "0.0",
         "0.0",
         "0.0",
         "0.0",
         "0.0",
         "0.0",
         "0.0",
         "0.0",
         "0.0",
         "0.75286757946",
         "0.56504350901",
         "0.62937349081",
         "0.019295886159",
         "-0.36513251066",
         "-0.16155838966",
         "0.012349132448",
         "-0.054835215211",
         "0.13822449744",
         "-0.046989265829",
         "0.30438441038",
         "0.61592000723",
         "0.25676140189",
         "0.23347049952",
         "0.26466095448",
         "0.23428428173",
         "0.26832160354",
         "0.22372049093",
         "0.23461173475",
         "0.26429691911",
         "0.22394320369",
         "0.26532620192",
         "0.21261769533",
         "0.23208089173",
         "-0.46990117431",
         "-0.74359476566",
         "-0.70942956209",
         "-0.6393969059",
         "-1.0721523762",
         "-1.0103862286",
         "-0.92473495007",
         "-1.0876239538",
         "-1.2264742851",
         "-1.4013231993",
         "-1.2603311539",
         "-1.0447446108",
         "1.0",
         "1.0",
         "1.0",
         "1.0",
         "1.0",
         "1.0",
         "1.0",
         "1.0",
         "1.0",
         "1.0",
         "1.0",
         "1.0",
         "0.38101702929",
         "0.38842353225",
         "0.38941779733",
         "0.40929472446",
         "0.46670797467",
         "0.44416415691",
         "0.43296909332",
         "0.47450783849",
         "0.48736697435",
         "0.52108478546",
         "0.49827802181",
         "0.46301209927",
         "0.32770851254",
         "0.33448114991",
         "0.34439387918",
         "0.37200915813",
         "0.41894316673",
         "0.38128954172",
         "0.39290884137",
         "0.43967631459",
         "0.47660961747",
         "0.47664406896",
         "0.48443827033",
         "0.43516656756",
         "0.0",
         "0.0",
         "0.0",
         "0.0",
         "0.0",
         "0.0",
         "0.0",
         "0.0",
         "0.0",
         "0.0",
         "0.0",
         "0.0",
         "0.67937225103",
         "0.58435845375",
         "0.56309103966",
         "0.52734947205",
         "0.35509622097",
         "0.46122014523",
         "0.40052592754",
         "0.2966658771",
         "0.12359721214",
         "0.1472851634",
         "0.11187889427",
         "0.32067203522",
         "0.27943995595",
         "0.29390287399",
         "0.28303909302",
         "0.28036111593",
         "0.30605250597",
         "0.30514851213",
         "0.28824576735",
         "0.30812215805",
         "0.30591779947",
         "0.34076565504",
         "0.30746534467",
         "0.30443692207",
         "1.1080026627",
         "3.2193510532",
         "0.22847975791",
         "0.25573024154",
         "-0.28386318684",
         "0.026145676151",
         "0.76108640432",
         "0.76585406065",
         "0.5599027276",
         "0.27247095108",
         "0.61893415451",
         "1.5730010271",
         "0.28136080503",
         "0.92840230465",
         "0.26554065943",
         "0.2978078723",
         "0.47196811438",
         "0.59274244308",
         "0.6497708559",
         "0.61642950773",
         "6.554787159",
         "232.42588806",
         "67.769073486",
         "120.25959778",
         "60.538967133",
         "57.962779999",
         "31.661849976",
         "42.31419754",
         "28.941034317",
         "36.816322327",
         "41.947704315",
         "43.390556335",
         "38.853740692",
         "30.990392685",
         "30.24921608",
         "33.384689331",
         "27.084856033",
         "26.360607147",
         "26.473373413",
         "21.892522812",
         "-191.87541199",
         "148.14852905",
         "-23.28915596",
         "16.291481018",
         "2.5498898029",
         "16.589120865",
         "-1.8212732077",
         "2.4320998192",
         "-1.6508458853",
         "3.4724452496",
         "-0.52993386984",
         "7.6659331322",
         "4.483297348",
         "0.90108323097",
         "0.78742659092",
         "-0.49453088641",
         "-1.9935804605",
         "1.1386326551",
         "-0.58919769526",
         "-2.8942785263",
         "-155.98228455",
         "156.26080322",
         "-24.70341301",
         "28.814310074",
         "3.3912198544",
         "17.257120132",
         "0.78301596642",
         "6.8873767853",
         "-0.9117295146",
         "4.438724041",
         "-0.1599073261",
         "7.3940711021",
         "4.1461420059",
         "1.335313797",
         "0.46466726065",
         "-0.31450986862",
         "-1.8260047436",
         "1.3576378822",
         "-0.46883061528",
         "-2.0687990189",
         "-530.45880127",
         "-6.9277916737e-14",
         "-115.74290466",
         "-95.515739441",
         "-55.678142548",
         "-27.809608459",
         "-61.629207611",
         "-59.568553925",
         "-45.17691803",
         "-31.268312454",
         "-33.401615143",
         "-43.080509186",
         "-22.518415451",
         "-27.880739212",
         "-33.447666168",
         "-23.555519104",
         "-31.010890961",
         "-29.371986389",
         "-29.185497284",
         "-34.875320435",
         "-1.2049899101",
         "-1.5806647539",
         "0.27164763212",
         "-1.0900396109",
         "-0.20449861884",
         "-0.2166454643",
         "-0.91922152042",
         "-1.0720897913",
         "-0.4179521203",
         "-0.37501707673",
         "-0.025281067938",
         "-0.41418531537",
         "0.16658298671",
         "-0.2242783308",
         "0.031101910397",
         "0.088961973786",
         "-0.084905296564",
         "-0.22834636271",
         "-0.052012398839",
         "-0.51983225346",
         "112.84643555",
         "39.371086121",
         "30.117853165",
         "37.429901123",
         "16.937072754",
         "12.58944416",
         "14.876773834",
         "16.750572205",
         "9.6678638458",
         "9.1279449463",
         "7.6325998306",
         "9.7824354172",
         "7.6317510605",
         "6.9756817818",
         "7.5380482674",
         "6.1439352036",
         "6.6063814163",
         "6.5950684547",
         "6.8334417343",
         "7.2661290169",
         "-0.81767511368",
         "9.9950990677",
         "3.585524559",
         "3.7609956264",
         "0.0",
         "-0.24258430302",
         "1.9798057079",
         "0.64513683319",
         "3653.638916",
         "1653.8776855",
         "1480.3763428",
         "0.0",
         "0.9313839674",
         "610.44506836",
         "8.456451416",
         "5751.0014648",
         "1244.506958",
         "1103.0076904",
         "0.0",
         "2.2010574341",
         "597.87408447",
         "3.5323607922",
         "0.09062551707",
         "0.17119345069",
         "0.22886694968",
         "0.033970996737",
         "1.2154942751",
         "-0.62963712215",
         "67.334327698",
         "36.422340393",
         "38.603130341",
         "36.479206085",
         "34.182281494",
         "33.862903595",
         "47.454055786",
         "18.848514557",
         "14.36237812",
         "16.841421127",
         "17.666791916",
         "17.738651276",
         "16.937707901",
         "30.959653854",
         "18.04863739",
         "13.962745667",
         "16.146530151",
         "17.056386948",
         "17.371391296",
         "16.451356888",
         "34.007472992",
         "1.2696062326",
         "1.2696303129",
         "1.2696648836",
         "1.2696835995",
         "1.2696634531",
         "1.269677639",
         "1.2696807384",
         "1.1617865562",
         "0.51728230715",
         "0.62001043558",
         "0.64499229193",
         "0.50978809595",
         "0.89284354448",
         "-0.7343840003",
         "5.267496109",
         "4.4436855316",
         "4.7497138977",
         "4.2460756302",
         "3.4491143227",
         "3.0177221298",
         "8.3079023361",
         "2.6617281437",
         "9603.8085938",
         "2473.6135254",
         "1894.921875",
         "0.0",
         "1.6650871038",
         "1597.1077881",
         "1.6353076696",
         "3.936075449",
         "2.272028923",
         "0.53862428665",
         "0.96681052446",
         "2.0711040497",
         "0.12820138037",
         "0.16135171056",
         "0.21100893617",
         "0.32470449805",
         "0.14594615996",
         "0.067875429988",
         "0.0031718162354",
         "0.0055595985614",
         "-0.021815823391",
         "0.027962258086",
         "0.016205241904",
         "-0.00078195153037",
         "0.0026917723008",
         "0.0041175503284",
         "-0.0072088860907",
         "0.029853736982",
         "0.015281769447",
         "-0.0008070790791",
         "-0.13589577377",
         "-0.10991005599",
         "-0.39215901494",
         "-0.28464663029",
         "-0.076824739575",
         "-0.088770240545",
         "-0.14366190135",
         "0.74990725517",
         "-1.1942001581",
         "0.09122338146",
         "0.34076678753",
         "-0.52630323172",
         "0.030364092439",
         "0.026506680995",
         "0.097598902881",
         "0.082483276725",
         "0.025375068188",
         "0.019000625238",
         "15.800704956",
         "0.4208984375",
         "0.050421059132",
         "0.046875",
         "0.0",
         "2.2374312878",
         "0.028343727812",
         "0.2102432929",
         "0.167889",
         "0.219637",
         "0.00175",
         "0.132899"
        ]
       ],
       "shape": {
        "columns": 532,
        "rows": 5
       }
      },
      "text/html": [
       "<div>\n",
       "<style scoped>\n",
       "    .dataframe tbody tr th:only-of-type {\n",
       "        vertical-align: middle;\n",
       "    }\n",
       "\n",
       "    .dataframe tbody tr th {\n",
       "        vertical-align: top;\n",
       "    }\n",
       "\n",
       "    .dataframe thead th {\n",
       "        text-align: right;\n",
       "    }\n",
       "</style>\n",
       "<table border=\"1\" class=\"dataframe\">\n",
       "  <thead>\n",
       "    <tr style=\"text-align: right;\">\n",
       "      <th></th>\n",
       "      <th>track_id</th>\n",
       "      <th>audio_features__audio_features.acousticness</th>\n",
       "      <th>audio_features__audio_features.danceability</th>\n",
       "      <th>audio_features__audio_features.energy</th>\n",
       "      <th>audio_features__audio_features.instrumentalness</th>\n",
       "      <th>audio_features__audio_features.liveness</th>\n",
       "      <th>audio_features__audio_features.speechiness</th>\n",
       "      <th>audio_features__audio_features.tempo</th>\n",
       "      <th>audio_features__audio_features.valence</th>\n",
       "      <th>chromacens_features__chromacens.kurtosis.01</th>\n",
       "      <th>...</th>\n",
       "      <th>zcr_features__zcr.mean.01</th>\n",
       "      <th>zcr_features__zcr.median.01</th>\n",
       "      <th>zcr_features__zcr.min.01</th>\n",
       "      <th>zcr_features__zcr.skew.01</th>\n",
       "      <th>zcr_features__zcr.std.01</th>\n",
       "      <th>social_features__social_features.artist_discovery</th>\n",
       "      <th>social_features__social_features.artist_familiarity</th>\n",
       "      <th>social_features__social_features.artist_hotttnesss</th>\n",
       "      <th>social_features__social_features.song_currency</th>\n",
       "      <th>social_features__social_features.song_hotttnesss</th>\n",
       "    </tr>\n",
       "  </thead>\n",
       "  <tbody>\n",
       "    <tr>\n",
       "      <th>0</th>\n",
       "      <td>28362</td>\n",
       "      <td>0.615845</td>\n",
       "      <td>0.796281</td>\n",
       "      <td>0.325478</td>\n",
       "      <td>8.875420e-01</td>\n",
       "      <td>0.115252</td>\n",
       "      <td>0.063696</td>\n",
       "      <td>115.151</td>\n",
       "      <td>0.640349</td>\n",
       "      <td>-0.854609</td>\n",
       "      <td>...</td>\n",
       "      <td>0.028092</td>\n",
       "      <td>0.020020</td>\n",
       "      <td>0.001953</td>\n",
       "      <td>2.369166</td>\n",
       "      <td>0.029650</td>\n",
       "      <td>0.262087</td>\n",
       "      <td>0.148808</td>\n",
       "      <td>0.273797</td>\n",
       "      <td>0.000000</td>\n",
       "      <td>0.000000</td>\n",
       "    </tr>\n",
       "    <tr>\n",
       "      <th>1</th>\n",
       "      <td>21945</td>\n",
       "      <td>0.220101</td>\n",
       "      <td>0.510654</td>\n",
       "      <td>0.969888</td>\n",
       "      <td>8.971400e-01</td>\n",
       "      <td>0.092763</td>\n",
       "      <td>0.128598</td>\n",
       "      <td>187.946</td>\n",
       "      <td>0.039892</td>\n",
       "      <td>-0.284995</td>\n",
       "      <td>...</td>\n",
       "      <td>0.091346</td>\n",
       "      <td>0.070801</td>\n",
       "      <td>0.000000</td>\n",
       "      <td>4.549640</td>\n",
       "      <td>0.080030</td>\n",
       "      <td>0.272543</td>\n",
       "      <td>0.100723</td>\n",
       "      <td>0.284720</td>\n",
       "      <td>0.000000</td>\n",
       "      <td>0.000000</td>\n",
       "    </tr>\n",
       "    <tr>\n",
       "      <th>2</th>\n",
       "      <td>12926</td>\n",
       "      <td>0.995025</td>\n",
       "      <td>0.366585</td>\n",
       "      <td>0.009510</td>\n",
       "      <td>3.110000e-08</td>\n",
       "      <td>0.126373</td>\n",
       "      <td>0.047308</td>\n",
       "      <td>110.612</td>\n",
       "      <td>0.375191</td>\n",
       "      <td>-0.658622</td>\n",
       "      <td>...</td>\n",
       "      <td>0.042644</td>\n",
       "      <td>0.035156</td>\n",
       "      <td>0.000977</td>\n",
       "      <td>4.588343</td>\n",
       "      <td>0.039720</td>\n",
       "      <td>0.118270</td>\n",
       "      <td>0.163611</td>\n",
       "      <td>0.123554</td>\n",
       "      <td>0.000250</td>\n",
       "      <td>0.038550</td>\n",
       "    </tr>\n",
       "    <tr>\n",
       "      <th>3</th>\n",
       "      <td>21232</td>\n",
       "      <td>0.431574</td>\n",
       "      <td>0.416715</td>\n",
       "      <td>0.665064</td>\n",
       "      <td>1.401447e-01</td>\n",
       "      <td>0.149772</td>\n",
       "      <td>0.033538</td>\n",
       "      <td>161.977</td>\n",
       "      <td>0.275170</td>\n",
       "      <td>-0.603870</td>\n",
       "      <td>...</td>\n",
       "      <td>0.055438</td>\n",
       "      <td>0.050293</td>\n",
       "      <td>0.000000</td>\n",
       "      <td>2.032553</td>\n",
       "      <td>0.031930</td>\n",
       "      <td>0.179076</td>\n",
       "      <td>0.035024</td>\n",
       "      <td>0.187077</td>\n",
       "      <td>0.000167</td>\n",
       "      <td>0.041556</td>\n",
       "    </tr>\n",
       "    <tr>\n",
       "      <th>4</th>\n",
       "      <td>17132</td>\n",
       "      <td>0.800596</td>\n",
       "      <td>0.554503</td>\n",
       "      <td>0.599560</td>\n",
       "      <td>1.740652e-01</td>\n",
       "      <td>0.430448</td>\n",
       "      <td>0.097078</td>\n",
       "      <td>96.597</td>\n",
       "      <td>0.224275</td>\n",
       "      <td>-0.060540</td>\n",
       "      <td>...</td>\n",
       "      <td>0.050421</td>\n",
       "      <td>0.046875</td>\n",
       "      <td>0.000000</td>\n",
       "      <td>2.237431</td>\n",
       "      <td>0.028344</td>\n",
       "      <td>0.210243</td>\n",
       "      <td>0.167889</td>\n",
       "      <td>0.219637</td>\n",
       "      <td>0.001750</td>\n",
       "      <td>0.132899</td>\n",
       "    </tr>\n",
       "  </tbody>\n",
       "</table>\n",
       "<p>5 rows × 532 columns</p>\n",
       "</div>"
      ],
      "text/plain": [
       "   track_id  audio_features__audio_features.acousticness  \\\n",
       "0     28362                                     0.615845   \n",
       "1     21945                                     0.220101   \n",
       "2     12926                                     0.995025   \n",
       "3     21232                                     0.431574   \n",
       "4     17132                                     0.800596   \n",
       "\n",
       "   audio_features__audio_features.danceability  \\\n",
       "0                                     0.796281   \n",
       "1                                     0.510654   \n",
       "2                                     0.366585   \n",
       "3                                     0.416715   \n",
       "4                                     0.554503   \n",
       "\n",
       "   audio_features__audio_features.energy  \\\n",
       "0                               0.325478   \n",
       "1                               0.969888   \n",
       "2                               0.009510   \n",
       "3                               0.665064   \n",
       "4                               0.599560   \n",
       "\n",
       "   audio_features__audio_features.instrumentalness  \\\n",
       "0                                     8.875420e-01   \n",
       "1                                     8.971400e-01   \n",
       "2                                     3.110000e-08   \n",
       "3                                     1.401447e-01   \n",
       "4                                     1.740652e-01   \n",
       "\n",
       "   audio_features__audio_features.liveness  \\\n",
       "0                                 0.115252   \n",
       "1                                 0.092763   \n",
       "2                                 0.126373   \n",
       "3                                 0.149772   \n",
       "4                                 0.430448   \n",
       "\n",
       "   audio_features__audio_features.speechiness  \\\n",
       "0                                    0.063696   \n",
       "1                                    0.128598   \n",
       "2                                    0.047308   \n",
       "3                                    0.033538   \n",
       "4                                    0.097078   \n",
       "\n",
       "   audio_features__audio_features.tempo  \\\n",
       "0                               115.151   \n",
       "1                               187.946   \n",
       "2                               110.612   \n",
       "3                               161.977   \n",
       "4                                96.597   \n",
       "\n",
       "   audio_features__audio_features.valence  \\\n",
       "0                                0.640349   \n",
       "1                                0.039892   \n",
       "2                                0.375191   \n",
       "3                                0.275170   \n",
       "4                                0.224275   \n",
       "\n",
       "   chromacens_features__chromacens.kurtosis.01  ...  \\\n",
       "0                                    -0.854609  ...   \n",
       "1                                    -0.284995  ...   \n",
       "2                                    -0.658622  ...   \n",
       "3                                    -0.603870  ...   \n",
       "4                                    -0.060540  ...   \n",
       "\n",
       "   zcr_features__zcr.mean.01  zcr_features__zcr.median.01  \\\n",
       "0                   0.028092                     0.020020   \n",
       "1                   0.091346                     0.070801   \n",
       "2                   0.042644                     0.035156   \n",
       "3                   0.055438                     0.050293   \n",
       "4                   0.050421                     0.046875   \n",
       "\n",
       "   zcr_features__zcr.min.01  zcr_features__zcr.skew.01  \\\n",
       "0                  0.001953                   2.369166   \n",
       "1                  0.000000                   4.549640   \n",
       "2                  0.000977                   4.588343   \n",
       "3                  0.000000                   2.032553   \n",
       "4                  0.000000                   2.237431   \n",
       "\n",
       "   zcr_features__zcr.std.01  \\\n",
       "0                  0.029650   \n",
       "1                  0.080030   \n",
       "2                  0.039720   \n",
       "3                  0.031930   \n",
       "4                  0.028344   \n",
       "\n",
       "   social_features__social_features.artist_discovery  \\\n",
       "0                                           0.262087   \n",
       "1                                           0.272543   \n",
       "2                                           0.118270   \n",
       "3                                           0.179076   \n",
       "4                                           0.210243   \n",
       "\n",
       "   social_features__social_features.artist_familiarity  \\\n",
       "0                                           0.148808     \n",
       "1                                           0.100723     \n",
       "2                                           0.163611     \n",
       "3                                           0.035024     \n",
       "4                                           0.167889     \n",
       "\n",
       "   social_features__social_features.artist_hotttnesss  \\\n",
       "0                                           0.273797    \n",
       "1                                           0.284720    \n",
       "2                                           0.123554    \n",
       "3                                           0.187077    \n",
       "4                                           0.219637    \n",
       "\n",
       "   social_features__social_features.song_currency  \\\n",
       "0                                        0.000000   \n",
       "1                                        0.000000   \n",
       "2                                        0.000250   \n",
       "3                                        0.000167   \n",
       "4                                        0.001750   \n",
       "\n",
       "   social_features__social_features.song_hotttnesss  \n",
       "0                                          0.000000  \n",
       "1                                          0.000000  \n",
       "2                                          0.038550  \n",
       "3                                          0.041556  \n",
       "4                                          0.132899  \n",
       "\n",
       "[5 rows x 532 columns]"
      ]
     },
     "metadata": {},
     "output_type": "display_data"
    },
    {
     "data": {
      "application/vnd.microsoft.datawrangler.viewer.v0+json": {
       "columns": [
        {
         "name": "genre",
         "rawType": "object",
         "type": "string"
        },
        {
         "name": "count",
         "rawType": "int64",
         "type": "integer"
        }
       ],
       "ref": "64dc1582-d5fe-474d-9451-23b59fb5eaa2",
       "rows": [
        [
         "Rock",
         "4275"
        ],
        [
         "Electronic",
         "2584"
        ],
        [
         "Pop",
         "1313"
        ],
        [
         "Folk",
         "910"
        ],
        [
         "Hip-Hop",
         "865"
        ]
       ],
       "shape": {
        "columns": 1,
        "rows": 5
       }
      },
      "text/plain": [
       "genre\n",
       "Rock          4275\n",
       "Electronic    2584\n",
       "Pop           1313\n",
       "Folk           910\n",
       "Hip-Hop        865\n",
       "Name: count, dtype: int64"
      ]
     },
     "metadata": {},
     "output_type": "display_data"
    }
   ],
   "source": [
    "\n",
    "# Cargar matrices de train y test\n",
    "X_train_raw, y_train = build_matrix(\"train\")\n",
    "X_test_raw, _ = build_matrix(\"test\")\n",
    "\n",
    "# Visualizacion y dimensiones\n",
    "print(f'Dimensiones: ',X_train_raw.shape, X_test_raw.shape)\n",
    "display(X_train_raw.head())\n",
    "if y_train is not None:\n",
    "    display(y_train.value_counts().head())\n"
   ]
  },
  {
   "cell_type": "markdown",
   "id": "0794c73a",
   "metadata": {},
   "source": [
    "### Preprocesamiento de los datos."
   ]
  },
  {
   "cell_type": "code",
   "execution_count": 7,
   "id": "521a87df",
   "metadata": {},
   "outputs": [
    {
     "name": "stdout",
     "output_type": "stream",
     "text": [
      "Num features: 531\n",
      "Guardadas 531 columnas y medianas de train.\n"
     ]
    }
   ],
   "source": [
    "\n",
    "# Mantener solo columnas numéricas\n",
    "num_cols = [\"track_id\"] + [c for c in X_train_raw.columns if c != \"track_id\" and pd.api.types.is_numeric_dtype(X_train_raw[c])]\n",
    "X_train = X_train_raw[num_cols].copy()\n",
    "X_test = X_test_raw[num_cols].copy()\n",
    "\n",
    "# Imputación simple (si hubiera faltantes residuales)\n",
    "X_train = X_train.fillna(X_train.median(numeric_only=True))\n",
    "X_test = X_test.fillna(X_train.median(numeric_only=True))\n",
    "print(\"Num features:\", X_train.shape[1]-1)\n",
    "\n",
    "# Artefactos de entrenamiento\n",
    "FEATURES_USED = [c for c in X_train.columns if c != \"track_id\"]\n",
    "TRAIN_MEDIANS = X_train.drop(columns=[\"track_id\"]).median(numeric_only=True).to_dict()\n",
    "\n",
    "with open(ARTIFACTS / \"features_used.json\", \"w\") as f:\n",
    "    json.dump(FEATURES_USED, f)\n",
    "\n",
    "with open(ARTIFACTS / \"train_medians.json\", \"w\") as f:\n",
    "    json.dump({k: float(v) for k, v in TRAIN_MEDIANS.items()}, f)\n",
    "\n",
    "print(f\"Guardadas {len(FEATURES_USED)} columnas y medianas de train.\")\n"
   ]
  },
  {
   "cell_type": "markdown",
   "id": "75382020",
   "metadata": {},
   "source": [
    "### Distribución de la variable objetivo."
   ]
  },
  {
   "cell_type": "code",
   "execution_count": 8,
   "id": "8dd0f30b",
   "metadata": {},
   "outputs": [
    {
     "name": "stdout",
     "output_type": "stream",
     "text": [
      "genre\n",
      "Rock                   4275\n",
      "Electronic             2584\n",
      "Pop                    1313\n",
      "Folk                    910\n",
      "Hip-Hop                 865\n",
      "International           788\n",
      "Jazz                    480\n",
      "Old-Time / Historic     384\n",
      "Classical               380\n",
      "Blues                   195\n",
      "Country                 123\n",
      "Instrumental             80\n",
      "Experimental             41\n",
      "Easy Listening           28\n",
      "Soul-RnB                 26\n",
      "Name: count, dtype: int64\n"
     ]
    },
    {
     "data": {
      "image/png": "[encoded data removed]",
      "text/plain": [
       "<Figure size 1000x400 with 1 Axes>"
      ]
     },
     "metadata": {},
     "output_type": "display_data"
    },
    {
     "name": "stdout",
     "output_type": "stream",
     "text": [
      "Guardada: /home/diego23/Master/cimat/multimodal-analysis-MIR/homework/01_intro_deep_learning/figures/eda_distribucion_generos.png\n"
     ]
    },
    {
     "data": {
      "text/plain": [
       "<Figure size 640x480 with 0 Axes>"
      ]
     },
     "metadata": {},
     "output_type": "display_data"
    }
   ],
   "source": [
    "\n",
    "# Distribución de la variable de respuesta\n",
    "if y_train is not None:\n",
    "    vc = y_train.value_counts().sort_values(ascending=False)\n",
    "    print(vc.head(20))\n",
    "    plt.figure(figsize=(10,4))\n",
    "    vc.plot(kind=\"bar\")\n",
    "    plt.title(\"Distribución de géneros (train)\")\n",
    "    plt.tight_layout()\n",
    "    plt.show()\n",
    "    savefig(\"eda_distribucion_generos.png\")\n",
    "\n"
   ]
  },
  {
   "cell_type": "markdown",
   "id": "4d1c9ab6",
   "metadata": {},
   "source": [
    "Podemos observar que el gráfico muestra un severo desbalance de clases con una distribución de cola larga. Las  clases **Rock**, **Electronic** y **Pop** dominan el dataset, mientras que los demas géneros tiene un soporte extremadamente bajo. Esta desvalance de clases sera el principal desafío del problema."
   ]
  },
  {
   "cell_type": "markdown",
   "id": "e779257f",
   "metadata": {},
   "source": [
    "### Reduccion de dimensiones mediante PCA."
   ]
  },
  {
   "cell_type": "code",
   "execution_count": 9,
   "id": "adf21321",
   "metadata": {},
   "outputs": [
    {
     "name": "stdout",
     "output_type": "stream",
     "text": [
      "Varianza explicada (PC1, PC2): [0.11899027 0.0766737 ]\n"
     ]
    },
    {
     "data": {
      "image/png": "[encoded data removed]",
      "text/plain": [
       "<Figure size 700x600 with 1 Axes>"
      ]
     },
     "metadata": {},
     "output_type": "display_data"
    },
    {
     "name": "stdout",
     "output_type": "stream",
     "text": [
      "Guardada: /home/diego23/Master/cimat/multimodal-analysis-MIR/homework/01_intro_deep_learning/figures/pca_2d_train.png\n"
     ]
    },
    {
     "data": {
      "text/plain": [
       "<Figure size 640x480 with 0 Axes>"
      ]
     },
     "metadata": {},
     "output_type": "display_data"
    }
   ],
   "source": [
    "\n",
    "# Estandarización  de los datos\n",
    "scaler = StandardScaler()\n",
    "Xs = scaler.fit_transform(X_train.drop(columns=[\"track_id\"]))\n",
    "\n",
    "# PCA (2D)\n",
    "pca = PCA(n_components=2, random_state=SEED)\n",
    "Xp = pca.fit_transform(Xs)\n",
    "\n",
    "# Varianza explicada\n",
    "print(\"Varianza explicada (PC1, PC2):\", pca.explained_variance_ratio_[:2])\n",
    "\n",
    "# Visualizacion\n",
    "if y_train is not None:\n",
    "    # graficar dispersión 2D coloreada por género\n",
    "    genres = y_train.astype(str).values\n",
    "    uniq = pd.Series(genres).unique()\n",
    "    plt.figure(figsize=(7,6))\n",
    "    for g in uniq:\n",
    "        m = genres==g\n",
    "        plt.scatter(Xp[m,0], Xp[m,1], s=8, alpha=0.6, label=g)\n",
    "    plt.legend(ncol=2, fontsize=7, frameon=False)\n",
    "    plt.title(\"PCA 2D — Train (estandarizado)\")\n",
    "    plt.xlabel(\"PC1\"); plt.ylabel(\"PC2\")\n",
    "    plt.tight_layout()\n",
    "    plt.show()\n",
    "    savefig(\"pca_2d_train.png\")\n"
   ]
  },
  {
   "cell_type": "markdown",
   "id": "e8ce71c6",
   "metadata": {},
   "source": [
    "En el grafico obtenido tras aplicar PCA en 2 dimensiones observamos una gran superposición entre los géneros lo que nos sugiere que la tarea de clasificación es compleja."
   ]
  },
  {
   "cell_type": "markdown",
   "id": "e3733514",
   "metadata": {},
   "source": [
    "## **2)** *MLP*"
   ]
  },
  {
   "cell_type": "markdown",
   "id": "b086bfa2",
   "metadata": {},
   "source": [
    "### Preparacion para el entrenamiento del modelo. "
   ]
  },
  {
   "cell_type": "code",
   "execution_count": null,
   "id": "a17b4cfc",
   "metadata": {},
   "outputs": [
    {
     "name": "stdout",
     "output_type": "stream",
     "text": [
      "n_features: 531 n_classes: 15\n"
     ]
    }
   ],
   "source": [
    "\n",
    "# Codificación de etiquetas\n",
    "le = LabelEncoder()\n",
    "y_id = le.fit_transform(y_train)\n",
    "\n",
    "# División train/val (80/20) estratificada\n",
    "X_all = X_train.drop(columns=[\"track_id\"]).values.astype(np.float32)\n",
    "\n",
    "Xtr, Xva, ytr, yva = train_test_split(\n",
    "    X_all, y_id, test_size=0.2, random_state=SEED, stratify=y_id\n",
    ")\n",
    "\n",
    "# Escalamiento en train\n",
    "scaler = StandardScaler()\n",
    "Xtr = scaler.fit_transform(Xtr).astype(np.float32)\n",
    "Xva = scaler.transform(Xva).astype(np.float32)\n",
    "\n",
    "# PCA para estabilizar/compactar\n",
    "#PCA_DIMS = 192\n",
    "#pca = PCA(n_components=PCA_DIMS, random_state=SEED)\n",
    "#Xtr = pca.fit_transform(Xtr).astype(np.float32)\n",
    "#Xva = pca.transform(Xva).astype(np.float32)\n",
    "\n",
    "n_features = Xtr.shape[1]\n",
    "n_classes = len(le.classes_)\n",
    "print(\"n_features:\", n_features, \"n_classes:\", n_classes)\n",
    "\n",
    "# Guarda artefactos\n",
    "with open(ARTIFACTS / \"label_encoder.pkl\", \"wb\") as f: pickle.dump(le, f)\n",
    "with open(ARTIFACTS / \"scaler.pkl\", \"wb\") as f: pickle.dump(scaler, f)\n",
    "# PCA no se usó, guardar None\n",
    "with open(ARTIFACTS / \"pca.pkl\", \"wb\") as f: pickle.dump(None, f)\n"
   ]
  },
  {
   "cell_type": "markdown",
   "id": "160e6bc7",
   "metadata": {},
   "source": [
    "### Creación del dataset y DataLoader de PyTorch."
   ]
  },
  {
   "cell_type": "code",
   "execution_count": 18,
   "id": "119f844a",
   "metadata": {},
   "outputs": [],
   "source": [
    "\n",
    "# Contenedor de datos\n",
    "class TabDataset(Dataset):\n",
    "    def __init__(self, X, y=None):\n",
    "        self.X = torch.tensor(X, dtype=torch.float32)\n",
    "        self.y = None if y is None else torch.tensor(y, dtype=torch.long)\n",
    "    def __len__(self): return self.X.shape[0]\n",
    "    def __getitem__(self, idx):\n",
    "        return (self.X[idx], self.y[idx]) if self.y is not None else self.X[idx]\n",
    "\n",
    "BATCH = 256\n",
    "train_ds = TabDataset(Xtr, ytr)\n",
    "val_ds   = TabDataset(Xva, yva)\n",
    "\n",
    "# Sampler balanceado por clase\n",
    "class_counts = np.bincount(ytr)\n",
    "class_weights_sampler = (class_counts.sum() / (len(class_counts) * class_counts))\n",
    "sample_weights = class_weights_sampler[ytr]\n",
    "sampler = WeightedRandomSampler(sample_weights, num_samples=len(sample_weights), replacement=True)\n",
    "\n",
    "train_dl = DataLoader(train_ds, batch_size=BATCH, sampler=sampler, num_workers=0)\n",
    "val_dl   = DataLoader(val_ds, batch_size=BATCH, shuffle=False, num_workers=0)\n"
   ]
  },
  {
   "cell_type": "markdown",
   "id": "b16a2343",
   "metadata": {},
   "source": [
    "### Definición del modelo MLP."
   ]
  },
  {
   "cell_type": "code",
   "execution_count": null,
   "id": "b3c4d93c",
   "metadata": {},
   "outputs": [
    {
     "data": {
      "text/plain": [
       "MLP(\n",
       "  (net): Sequential(\n",
       "    (0): Linear(in_features=531, out_features=768, bias=True)\n",
       "    (1): BatchNorm1d(768, eps=1e-05, momentum=0.1, affine=True, track_running_stats=True)\n",
       "    (2): ReLU()\n",
       "    (3): Dropout(p=0.2, inplace=False)\n",
       "    (4): Linear(in_features=768, out_features=384, bias=True)\n",
       "    (5): BatchNorm1d(384, eps=1e-05, momentum=0.1, affine=True, track_running_stats=True)\n",
       "    (6): ReLU()\n",
       "    (7): Dropout(p=0.2, inplace=False)\n",
       "    (8): Linear(in_features=384, out_features=192, bias=True)\n",
       "    (9): BatchNorm1d(192, eps=1e-05, momentum=0.1, affine=True, track_running_stats=True)\n",
       "    (10): ReLU()\n",
       "    (11): Dropout(p=0.2, inplace=False)\n",
       "    (12): Linear(in_features=192, out_features=15, bias=True)\n",
       "  )\n",
       ")"
      ]
     },
     "execution_count": 19,
     "metadata": {},
     "output_type": "execute_result"
    }
   ],
   "source": [
    "# Arquitectura del modelo (mejor configuración hallada, sin PCA)\n",
    "class MLP(nn.Module):\n",
    "    def __init__(self, in_dim, n_classes, hidden=(768, 384, 192), pdrop=0.20):\n",
    "        super().__init__()\n",
    "        layers, last = [], in_dim\n",
    "        for h in hidden:\n",
    "            layers += [nn.Linear(last, h), nn.BatchNorm1d(h), nn.ReLU(), nn.Dropout(pdrop)]\n",
    "            last = h\n",
    "        layers += [nn.Linear(last, n_classes)]\n",
    "        self.net = nn.Sequential(*layers)\n",
    "    def forward(self, x):\n",
    "        return self.net(x)\n",
    "\n",
    "# Instancia del modelo\n",
    "model = MLP(n_features, n_classes).to(DEVICE)\n",
    "model\n"
   ]
  },
  {
   "cell_type": "markdown",
   "id": "7c8257ad",
   "metadata": {},
   "source": [
    "Se definio una red neuronal de tipo **Perceptrón Multicapa (MLP)** con una estructura secuencial y profunda, diseñada para la clasificación, la arquitectura es la siguiente:\n",
    "\n",
    "* **Entrada**: La red acepta un vector de entrada con un tamaño de `n_features`.\n",
    "* **Capas Ocultas**: Consiste en **tres bloques ocultos**:\n",
    "    1.  **Bloque 1**: Una capa lineal que transforma la entrada a **768** neuronas.\n",
    "    2.  **Bloque 2**: Una capa lineal que reduce la dimensionalidad a **384** neuronas.\n",
    "    3.  **Bloque 3**: Una capa lineal que la reduce nuevamente a **192** neuronas.\n",
    "* **Componentes de cada Bloque**: Cada uno de estos bloques incluye un conjunto de capas para mejorar el rendimiento y la regularización:\n",
    "    * `BatchNorm1d`: Para estabilizar y acelerar el entrenamiento.\n",
    "    * `ReLU`: Como función de activación no-lineal.\n",
    "    * `Dropout`: Con una probabilidad del **20%** para prevenir el sobreajuste.\n",
    "* **Capa de Salida**: Una capa lineal final que toma las 192 características del último bloque y las proyecta al número de clases (`n_classes`), produciendo las puntuaciones (logits) para la clasificación."
   ]
  },
  {
   "cell_type": "markdown",
   "id": "eead9244",
   "metadata": {},
   "source": [
    "### Entrenamiento y validacion."
   ]
  },
  {
   "cell_type": "code",
   "execution_count": 20,
   "id": "fc657647",
   "metadata": {},
   "outputs": [
    {
     "name": "stderr",
     "output_type": "stream",
     "text": [
      "/home/diego23/miniconda3/envs/mir-fma/lib/python3.11/site-packages/torch/optim/lr_scheduler.py:62: UserWarning: The verbose parameter is deprecated. Please use get_last_lr() to access the learning rate.\n",
      "  warnings.warn(\n"
     ]
    },
    {
     "name": "stdout",
     "output_type": "stream",
     "text": [
      "[001] tr=1.1932  va=2.6020  acc=0.1295  f1m=0.1597  lr=1.00e-03\n",
      "[005] tr=0.4663  va=2.0340  acc=0.4305  f1m=0.3420  lr=1.00e-03\n",
      "[010] tr=0.3857  va=1.9326  acc=0.5575  f1m=0.4255  lr=1.00e-03\n",
      "[015] tr=0.3584  va=1.9081  acc=0.5980  f1m=0.4600  lr=1.00e-03\n",
      "[020] tr=0.3452  va=1.8972  acc=0.6273  f1m=0.4721  lr=1.00e-03\n",
      "[025] tr=0.3306  va=1.8772  acc=0.6429  f1m=0.4729  lr=5.00e-04\n",
      "[030] tr=0.3136  va=1.8574  acc=0.6573  f1m=0.4856  lr=5.00e-04\n",
      "[035] tr=0.3137  va=1.8740  acc=0.6525  f1m=0.4953  lr=5.00e-04\n",
      "[040] tr=0.3105  va=1.8568  acc=0.6629  f1m=0.4976  lr=2.50e-04\n",
      "[045] tr=0.3073  va=1.8676  acc=0.6569  f1m=0.4882  lr=2.50e-04\n",
      "[050] tr=0.3048  va=1.8680  acc=0.6629  f1m=0.4966  lr=1.25e-04\n",
      "[055] tr=0.3039  va=1.8573  acc=0.6669  f1m=0.5001  lr=1.25e-04\n",
      "[060] tr=0.3036  va=1.8662  acc=0.6669  f1m=0.5040  lr=6.25e-05\n",
      "[065] tr=0.3035  va=1.8653  acc=0.6693  f1m=0.4994  lr=3.13e-05\n",
      "Early stopping en época 68. Mejor macro-F1: 0.5065\n"
     ]
    }
   ],
   "source": [
    "\n",
    "# Pérdida, optimizador y scheduler\n",
    "def compute_class_ce_weights(y):\n",
    "    counts = np.bincount(y)\n",
    "    w = counts.sum() / (len(counts) * counts)\n",
    "    # suaviza para evitar explosiones en clases con muy pocos ejemplos\n",
    "    w = np.clip(w, 0.5, 5.0)\n",
    "    return torch.tensor(w, dtype=torch.float32)\n",
    "\n",
    "weights_ce = compute_class_ce_weights(ytr).to(DEVICE)\n",
    "criterion = nn.CrossEntropyLoss(weight=weights_ce, label_smoothing=0.05)\n",
    "\n",
    "optimizer = AdamW(model.parameters(), lr=1e-3, weight_decay=1e-4)\n",
    "scheduler = ReduceLROnPlateau(optimizer, mode=\"max\", factor=0.5, patience=3, verbose=True)\n",
    "\n",
    "# Hiperparámetros\n",
    "EPOCHS   = 80\n",
    "PATIENCE = 10\n",
    "best_f1  = -1.0\n",
    "best_state = None\n",
    "wait = 0\n",
    "\n",
    "history = {\"train_loss\": [], \"val_loss\": [], \"val_acc\": [], \"val_f1\": [], \"lr\": []}\n",
    "\n",
    "# Entrenamiento y validación\n",
    "for epoch in range(1, EPOCHS+1):\n",
    "    # Entrenamiento\n",
    "    model.train()\n",
    "    total = 0.0\n",
    "    for xb, yb in train_dl:\n",
    "        xb, yb = xb.to(DEVICE), yb.to(DEVICE)\n",
    "        logits = model(xb)\n",
    "        loss = criterion(logits, yb)\n",
    "        optimizer.zero_grad()\n",
    "        loss.backward()\n",
    "        nn.utils.clip_grad_norm_(model.parameters(), 1.0)\n",
    "        optimizer.step()\n",
    "        total += loss.item() * xb.size(0)\n",
    "    tr_loss = total / len(train_ds)\n",
    "\n",
    "    # Validación\n",
    "    model.eval()\n",
    "    vtotal, all_logits, all_y = 0.0, [], []\n",
    "    with torch.no_grad():\n",
    "        for xb, yb in val_dl:\n",
    "            xb, yb = xb.to(DEVICE), yb.to(DEVICE)\n",
    "            logits = model(xb)\n",
    "            loss = criterion(logits, yb)\n",
    "            vtotal += loss.item() * xb.size(0)\n",
    "            all_logits.append(logits.cpu()); all_y.append(yb.cpu())\n",
    "    va_loss = vtotal / len(val_ds)\n",
    "\n",
    "    logits = torch.cat(all_logits); y_true = torch.cat(all_y).numpy()\n",
    "    y_pred = logits.argmax(1).numpy()\n",
    "    acc = accuracy_score(y_true, y_pred)\n",
    "    f1m = f1_score(y_true, y_pred, average=\"macro\")\n",
    "\n",
    "    # Historial\n",
    "    history[\"train_loss\"].append(tr_loss)\n",
    "    history[\"val_loss\"].append(va_loss)\n",
    "    history[\"val_acc\"].append(acc)\n",
    "    history[\"val_f1\"].append(f1m)\n",
    "    history[\"lr\"].append(optimizer.param_groups[0][\"lr\"])\n",
    "\n",
    "    scheduler.step(f1m)  # ajusta LR con base en macro-F1\n",
    "\n",
    "    if f1m > best_f1:\n",
    "        best_f1 = f1m\n",
    "        best_state = model.state_dict()\n",
    "        wait = 0\n",
    "    else:\n",
    "        wait += 1\n",
    "        if wait >= PATIENCE:\n",
    "            print(f\"Early stopping en época {epoch}. Mejor macro-F1: {best_f1:.4f}\")\n",
    "            break\n",
    "\n",
    "    if epoch % 5 == 0 or epoch == 1:\n",
    "        print(f\"[{epoch:03d}] tr={tr_loss:.4f}  va={va_loss:.4f}  acc={acc:.4f}  f1m={f1m:.4f}  lr={optimizer.param_groups[0]['lr']:.2e}\")\n",
    "\n",
    "# Cargar mejor estado\n",
    "if best_state is not None:\n",
    "    model.load_state_dict(best_state)\n"
   ]
  },
  {
   "cell_type": "markdown",
   "id": "0fb947f0",
   "metadata": {},
   "source": [
    "### Visualizacion historial de entrenamiento. "
   ]
  },
  {
   "cell_type": "code",
   "execution_count": 31,
   "id": "8899a125",
   "metadata": {},
   "outputs": [
    {
     "data": {
      "image/png": "[encoded data removed]",
      "text/plain": [
       "<Figure size 800x400 with 1 Axes>"
      ]
     },
     "metadata": {},
     "output_type": "display_data"
    },
    {
     "name": "stdout",
     "output_type": "stream",
     "text": [
      "Guardada: /home/diego23/Master/cimat/multimodal-analysis-MIR/homework/01_intro_deep_learning/figures/curva_perdida.png\n"
     ]
    },
    {
     "data": {
      "text/plain": [
       "<Figure size 640x480 with 0 Axes>"
      ]
     },
     "metadata": {},
     "output_type": "display_data"
    },
    {
     "data": {
      "image/png": "[encoded data removed]",
      "text/plain": [
       "<Figure size 800x400 with 1 Axes>"
      ]
     },
     "metadata": {},
     "output_type": "display_data"
    },
    {
     "name": "stdout",
     "output_type": "stream",
     "text": [
      "Guardada: /home/diego23/Master/cimat/multimodal-analysis-MIR/homework/01_intro_deep_learning/figures/metricas_validacion.png\n"
     ]
    },
    {
     "data": {
      "text/plain": [
       "<Figure size 640x480 with 0 Axes>"
      ]
     },
     "metadata": {},
     "output_type": "display_data"
    }
   ],
   "source": [
    "\n",
    "# Curva de pérdida\n",
    "plt.figure(figsize=(8,4))\n",
    "plt.plot(history[\"train_loss\"], label=\"Train\")\n",
    "plt.plot(history[\"val_loss\"], label=\"Val\")\n",
    "plt.title(\"Pérdida\"); plt.legend()\n",
    "plt.tight_layout(); plt.show()\n",
    "savefig(\"curva_perdida.png\")\n",
    "\n",
    "# Métricas de validación\n",
    "plt.figure(figsize=(8,4))\n",
    "plt.plot(history[\"val_acc\"], label=\"Val Acc\")\n",
    "plt.plot(history[\"val_f1\"], label=\"Val Macro-F1\")\n",
    "plt.title(\"Métricas de validación\"); plt.legend()\n",
    "plt.tight_layout(); plt.show()\n",
    "savefig(\"metricas_validacion.png\")\n"
   ]
  },
  {
   "cell_type": "markdown",
   "id": "16609489",
   "metadata": {},
   "source": [
    "\n",
    "Podemos observar que el gráfico de \"Pérdida\" muestra un **sobreajuste (overfitting)**.\n",
    "\n",
    "* La *pérdida de entrenamiento (Train)* desciende rápidamente y se estabiliza en un valor muy bajo, lo que indica que el modelo se ha ajustado muy bien a los datos de entrenamiento.\n",
    "* La *pérdida de validación (Val)*, aunque desciende al principio, se estanca en un valor mucho más alto.\n",
    "\n",
    "La gran brecha entre ambas curvas nos indica que el modelo *memorizo* los datos de entrenamiento pero no generaliza igual de bien a los datos nuevos que no ha visto.\n",
    "\n",
    "---\n",
    "\n",
    "Por otra parte el gráfico de \"Métricas de validación\" expone el **impacto del desbalance de clases** en el rendimiento del modelo.\n",
    "\n",
    "* Ambas métricas, *Accuracy (Val Acc)* y *Macro-F1 (Val Macro-F1)*, mejoran y se estabilizan, lo que confirma que el modelo está aprendiendo.\n",
    "* Sin embargo, la *Accuracy* se estabiliza en un valor notablemente más alto (~68%) que el **Macro-F1** (~50%).\n",
    "\n",
    "Esta diferencia se debe a que la *Accuracy* puede ser alta si el modelo acierta en las clases mayoritarias, mientras que el *Macro-F1* penaliza duramente el mal rendimiento en las clases minoritarias (con pocas muestras). En resumen, el modelo es relativamente bueno prediciendo los géneros más comunes, pero sufre para identificar correctamente los géneros raros."
   ]
  },
  {
   "cell_type": "markdown",
   "id": "348160af",
   "metadata": {},
   "source": [
    "### Metricas obtenidas."
   ]
  },
  {
   "cell_type": "code",
   "execution_count": null,
   "id": "a986c0a4",
   "metadata": {},
   "outputs": [
    {
     "name": "stdout",
     "output_type": "stream",
     "text": [
      "                     precision    recall  f1-score   support\n",
      "\n",
      "              Blues       0.68      0.64      0.66        39\n",
      "          Classical       0.76      0.86      0.81        76\n",
      "            Country       0.56      0.36      0.44        25\n",
      "     Easy Listening       0.00      0.00      0.00         5\n",
      "         Electronic       0.66      0.71      0.68       517\n",
      "       Experimental       0.00      0.00      0.00         8\n",
      "               Folk       0.57      0.57      0.57       182\n",
      "            Hip-Hop       0.61      0.66      0.64       173\n",
      "       Instrumental       0.60      0.38      0.46        16\n",
      "      International       0.58      0.50      0.54       158\n",
      "               Jazz       0.59      0.49      0.53        96\n",
      "Old-Time / Historic       0.96      0.95      0.95        77\n",
      "                Pop       0.45      0.40      0.43       263\n",
      "               Rock       0.76      0.79      0.77       855\n",
      "           Soul-RnB       0.00      0.00      0.00         5\n",
      "\n",
      "           accuracy                           0.67      2495\n",
      "          macro avg       0.52      0.49      0.50      2495\n",
      "       weighted avg       0.66      0.67      0.66      2495\n",
      "\n"
     ]
    }
   ],
   "source": [
    "\n",
    "# Reporte final en validación\n",
    "model.eval()\n",
    "with torch.no_grad():\n",
    "    logits = model(torch.tensor(Xva, dtype=torch.float32).to(DEVICE)).cpu().numpy()\n",
    "y_pred = logits.argmax(1)\n",
    "print(classification_report(yva, y_pred, target_names=le.classes_))\n",
    "\n",
    "# Guardar artefactos\n",
    "import pickle\n",
    "torch.save(model.state_dict(), MODELS / \"mlp_fma.pt\")\n",
    "with open(ARTIFACTS / \"label_encoder.pkl\", \"wb\") as f: pickle.dump(le, f)\n",
    "with open(ARTIFACTS / \"scaler.pkl\", \"wb\") as f: pickle.dump(scaler, f)\n",
    "\n",
    "# Guardar historial\n",
    "with open(REPORTS / \"history.json\", \"w\") as f: json.dump(history, f, indent=2)\n"
   ]
  },
  {
   "cell_type": "markdown",
   "id": "cc732c59",
   "metadata": {},
   "source": [
    "## **3)** *Predicción*"
   ]
  },
  {
   "cell_type": "markdown",
   "id": "8870b65e",
   "metadata": {},
   "source": [
    "### Prediccion y generación de la entrega de resultados."
   ]
  },
  {
   "cell_type": "code",
   "execution_count": null,
   "id": "905f7e57",
   "metadata": {},
   "outputs": [
    {
     "name": "stdout",
     "output_type": "stream",
     "text": [
      "Submission generada: /home/diego23/Master/cimat/multimodal-analysis-MIR/homework/01_intro_deep_learning/submissions/submission_mlp.csv\n"
     ]
    },
    {
     "name": "stderr",
     "output_type": "stream",
     "text": [
      "/tmp/ipykernel_97775/3441494184.py:11: FutureWarning: You are using `torch.load` with `weights_only=False` (the current default value), which uses the default pickle module implicitly. It is possible to construct malicious pickle data which will execute arbitrary code during unpickling (See https://github.com/pytorch/pytorch/blob/main/SECURITY.md#untrusted-models for more details). In a future release, the default value for `weights_only` will be flipped to `True`. This limits the functions that could be executed during unpickling. Arbitrary objects will no longer be allowed to be loaded via this mode unless they are explicitly allowlisted by the user via `torch.serialization.add_safe_globals`. We recommend you start setting `weights_only=True` for any use case where you don't have full control of the loaded file. Please open an issue on GitHub for any issues related to this experimental feature.\n",
      "  state = torch.load(ckpt_path, map_location=DEVICE)\n"
     ]
    }
   ],
   "source": [
    "# Aplicar el mismo preprocesamiento que en entrenamiento\n",
    "X_test_processed = X_test_raw[FEATURES_USED].copy()\n",
    "X_test_processed = X_test_processed.fillna(pd.Series(TRAIN_MEDIANS))\n",
    "\n",
    "# Escalar con el scaler entrenado\n",
    "X_te = scaler.transform(X_test_processed.astype(np.float32).values).astype(np.float32)\n",
    "\n",
    "# Cargar checkpoint y hacer predicción\n",
    "ckpt_path = MODELS / \"mlp_fma.pt\"\n",
    "state = torch.load(ckpt_path, map_location=DEVICE)\n",
    "model.load_state_dict(state)\n",
    "model.eval()\n",
    "\n",
    "# Inferencia\n",
    "with torch.no_grad():\n",
    "    logits = model(torch.tensor(X_te, dtype=torch.float32, device=DEVICE)).cpu().numpy()\n",
    "yhat = logits.argmax(1)\n",
    "pred_genres = le.inverse_transform(yhat)\n",
    "\n",
    "# Generar submission\n",
    "sub_path = SUBM / \"submission_mlp.csv\"\n",
    "pd.DataFrame({\"track_id\": X_test_raw[\"track_id\"].astype(int).values,\n",
    "              \"genre\": pred_genres}).to_csv(sub_path, index=False)\n",
    "print(f\"Submission generada: {sub_path}\")"
   ]
  },
  {
   "cell_type": "markdown",
   "id": "b9bd3b7d",
   "metadata": {},
   "source": [
    "Matriz de confusion normalizada."
   ]
  },
  {
   "cell_type": "code",
   "execution_count": null,
   "id": "3bcb81d3",
   "metadata": {},
   "outputs": [
    {
     "data": {
      "image/png": "[encoded data removed]",
      "text/plain": [
       "<Figure size 800x800 with 1 Axes>"
      ]
     },
     "metadata": {},
     "output_type": "display_data"
    },
    {
     "name": "stdout",
     "output_type": "stream",
     "text": [
      "Guardada: /home/diego23/Master/cimat/multimodal-analysis-MIR/homework/01_intro_deep_learning/figures/confusion_normalizada.png\n"
     ]
    },
    {
     "data": {
      "text/plain": [
       "<Figure size 640x480 with 0 Axes>"
      ]
     },
     "metadata": {},
     "output_type": "display_data"
    }
   ],
   "source": [
    "# Generamos la matriz de confusion\n",
    "cm = confusion_matrix(yva, y_pred, normalize=\"true\")\n",
    "disp = ConfusionMatrixDisplay(confusion_matrix=cm, display_labels=le.classes_)\n",
    "fig, ax = plt.subplots(figsize=(8,8))\n",
    "disp.plot(include_values=False, cmap=\"viridis\", ax=ax, xticks_rotation=90, colorbar=False)\n",
    "plt.title(\"Matriz de confusión (normalizada)\")\n",
    "plt.tight_layout(); plt.show()\n",
    "savefig(\"confusion_normalizada.png\")\n"
   ]
  },
  {
   "cell_type": "markdown",
   "id": "5a6ee24e",
   "metadata": {},
   "source": [
    "Podemos ver que la matriz de confusion confirma que el modelo no es un clasificador generalista robusto. Aunque ha aprendido a reconocer perfectamente ciertos géneros muy distintivos, sufre de un fuerte sesgo y tiene confusiones sistemáticas que limitan su funcionamiento en los géneros con menos muestras."
   ]
  }
 ],
 "metadata": {
  "kernelspec": {
   "display_name": "mir-fma",
   "language": "python",
   "name": "python3"
  },
  "language_info": {
   "codemirror_mode": {
    "name": "ipython",
    "version": 3
   },
   "file_extension": ".py",
   "mimetype": "text/x-python",
   "name": "python",
   "nbconvert_exporter": "python",
   "pygments_lexer": "ipython3",
   "version": "3.11.13"
  }
 },
 "nbformat": 4,
 "nbformat_minor": 5
}
